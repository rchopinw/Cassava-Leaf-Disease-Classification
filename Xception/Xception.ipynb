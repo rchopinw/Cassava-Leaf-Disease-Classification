{
  "nbformat": 4,
  "nbformat_minor": 0,
  "metadata": {
    "colab": {
      "name": "Xception",
      "provenance": [],
      "collapsed_sections": [],
      "machine_shape": "hm"
    },
    "kernelspec": {
      "name": "python3",
      "display_name": "Python 3"
    },
    "accelerator": "GPU"
  },
  "cells": [
    {
      "cell_type": "code",
      "metadata": {
        "id": "DGvYY2zkiOVN"
      },
      "source": [
        "import os\n",
        "\n",
        "os.environ['KAGGLE_USERNAME'] = \"daxinniu122\" # username from the json file\n",
        "os.environ['KAGGLE_KEY'] = \"2ed6804df3e3e2e0d5053c862fa7020a\" # key from the json file"
      ],
      "execution_count": 1,
      "outputs": []
    },
    {
      "cell_type": "code",
      "metadata": {
        "colab": {
          "base_uri": "https://localhost:8080/"
        },
        "id": "kb8S6JIlijb6",
        "outputId": "5dab82f3-9571-4380-c434-1da186cb293c"
      },
      "source": [
        "from google.colab import drive\n",
        "drive.mount('/content/drive', force_remount=True)"
      ],
      "execution_count": 2,
      "outputs": [
        {
          "output_type": "stream",
          "text": [
            "Mounted at /content/drive\n"
          ],
          "name": "stdout"
        }
      ]
    },
    {
      "cell_type": "code",
      "metadata": {
        "colab": {
          "base_uri": "https://localhost:8080/"
        },
        "id": "snpx7a8_jPLO",
        "outputId": "654780c5-60d9-4e30-e62e-3fd9da3bb2bb"
      },
      "source": [
        "# Library import\n",
        "import pandas as pd\n",
        "import os\n",
        "import re\n",
        "import tensorflow as tf\n",
        "import pandas as pd\n",
        "import os\n",
        "import pickle\n",
        "import re\n",
        "import cv2\n",
        "import albumentations as alb\n",
        "import numpy as np\n",
        "from tensorflow.keras.callbacks import EarlyStopping, TensorBoard, ReduceLROnPlateau\n",
        "from tensorflow.keras.optimizers import Adam\n",
        "from tensorflow.keras.optimizers.schedules import ExponentialDecay\n",
        "from tensorflow.keras.applications import VGG19, ResNet152V2, InceptionResNetV2\n",
        "from tensorflow.keras.layers import AveragePooling2D, Activation, GlobalAveragePooling2D\n",
        "from tensorflow.keras.regularizers import l1_l2\n",
        "from tensorflow.keras.layers import Dropout\n",
        "from tensorflow.keras.applications.resnet50 import ResNet50\n",
        "from tensorflow.keras.layers import Flatten\n",
        "from tensorflow.keras.layers import Dense\n",
        "from tensorflow.keras.layers import BatchNormalization\n",
        "from tensorflow.keras.models import Model\n",
        "from tensorflow.keras.optimizers import Adam\n",
        "from tensorflow.keras.losses import CategoricalCrossentropy\n",
        "from functools import partial\n",
        "from sklearn.model_selection import train_test_split\n",
        "import matplotlib.pyplot as plt\n",
        "from tensorflow.keras.models import Sequential, Model\n",
        "from tensorflow.keras.callbacks import ModelCheckpoint, EarlyStopping, ReduceLROnPlateau\n",
        "from tensorflow.keras.layers import Dense, Dropout, Flatten, GlobalAveragePooling2D, BatchNormalization, Activation\n",
        "from tensorflow.keras.applications import EfficientNetB3, EfficientNetB4\n",
        "from tensorflow.keras.losses import CategoricalCrossentropy\n",
        "from tensorflow.keras.preprocessing.image import ImageDataGenerator\n",
        "from sklearn.model_selection import train_test_split\n",
        "from tensorflow import keras\n",
        "from tensorflow.keras.callbacks import EarlyStopping, TensorBoard\n",
        "from tensorflow.keras.optimizers import Adam\n",
        "from tensorflow.keras.optimizers.schedules import ExponentialDecay\n",
        "from tensorflow.keras.applications import VGG16\n",
        "from functools import partial\n",
        "from sklearn.model_selection import train_test_split\n",
        "\n",
        "# Constant Variables:\n",
        "_auto_tune = tf.data.experimental.AUTOTUNE\n",
        "_batch_size = 16\n",
        "\n",
        "_image_width_original = 512\n",
        "_image_height_original = 512\n",
        "_image_size = [_image_width_original, _image_height_original]\n",
        "\n",
        "_image_resize_width = 336\n",
        "_image_resize_height = 336\n",
        "_image_resize = [_image_resize_width, _image_resize_height]\n",
        "print('Model input shape {} x {}.'.format(_image_resize_width, _image_resize_height))\n",
        "\n",
        "_channels = 3\n",
        "_n_class = 5\n",
        "_n_repeat = 4\n",
        "_img_norm = 255.0\n",
        "\n",
        "_classes = [str(x) for x in range(_n_class)]\n",
        "_major_label = 3\n",
        "_classes_names = ['Cassava Bacterial Blight',\n",
        "                  'Cassava Brown Streak Disease',\n",
        "                  'Cassava Green Mottle',\n",
        "                  'Cassava Mosaic Disease',\n",
        "                  'Healthy']\n",
        "_train_file = '/content/drive/MyDrive/sleepy_guys/cassava-leaf-disease-classification/train_tfrecords/'\n",
        "_train_recs = list(filter(lambda x: '.tfrec' in x, os.listdir(_train_file)))\n",
        "_epochs = 20\n",
        "_valid_size = 0.1\n",
        "_train_df = pd.read_csv('/content/drive/MyDrive/sleepy_guys/cassava-leaf-disease-classification/train.csv', encoding='utf_8_sig',\n",
        "                        engine='python')\n",
        "_file_label_map = dict(zip(_train_df.image_id.tolist(), _train_df.label.astype(int).tolist()))\n",
        "_random_corp_size = [_image_resize_width, _image_resize_height, _channels]\n",
        "\n",
        "\n",
        "# Decoding single image:\n",
        "def decode_img(img,\n",
        "               n_channels: int = _channels,\n",
        "               img_size: list = None,\n",
        "               img_norm: float = _img_norm):\n",
        "    if img_size is None:\n",
        "        img_size = _image_size\n",
        "    img = tf.image.decode_jpeg(img, channels=n_channels)\n",
        "    img = tf.reshape(img, [*img_size, n_channels])\n",
        "    # img = tf.cast(img, tf.float32) / img_norm\n",
        "    return img\n",
        "\n",
        "\n",
        "# Parsing the files\n",
        "def parse_img(x,\n",
        "              n_class: int = _n_class):\n",
        "    feature_description = {'image': tf.io.FixedLenFeature([], tf.string, default_value=''),\n",
        "                           'target': tf.io.FixedLenFeature([], tf.int64, default_value=-1)}\n",
        "    parsed_features = tf.io.parse_single_example(x, feature_description)\n",
        "    img = decode_img(parsed_features['image'])\n",
        "    label = tf.one_hot(parsed_features['target'], depth=n_class)\n",
        "    return img, label\n",
        "\n",
        "\n",
        "# Load data\n",
        "def load_img(files: list,\n",
        "             ordered=False):\n",
        "    df = tf.data.TFRecordDataset(files)\n",
        "    ignore_order = tf.data.Options()\n",
        "    if not ordered:\n",
        "        ignore_order.experimental_deterministic = False\n",
        "    df = df.with_options(ignore_order)\n",
        "    df = df.map(parse_img)\n",
        "    return df\n",
        "\n",
        "\n",
        "# Train-validation split\n",
        "_train_fn, _valid_fn = \\\n",
        "    train_test_split(tf.io.gfile.glob(_train_file + 'ld_train*.tfrec'),\n",
        "                     test_size=_valid_size,\n",
        "                     random_state=5,\n",
        "                     shuffle=True)"
      ],
      "execution_count": 3,
      "outputs": [
        {
          "output_type": "stream",
          "text": [
            "Model input shape 336 x 336.\n"
          ],
          "name": "stdout"
        }
      ]
    },
    {
      "cell_type": "code",
      "metadata": {
        "colab": {
          "base_uri": "https://localhost:8080/"
        },
        "id": "IXWaOKwkubHR",
        "outputId": "22b70069-48b5-4e30-bab2-e27c80e2be87"
      },
      "source": [
        "\n",
        "# Function for getting the training data set\n",
        "def get_train_data(train_fn: list = _train_fn,\n",
        "                   batch_size: int = _batch_size):\n",
        "    df = load_img(train_fn)\n",
        "    df = df.repeat().shuffle(2048).batch(batch_size).prefetch(_auto_tune)\n",
        "    return df\n",
        "\n",
        "\n",
        "# Function for getting the validation data set\n",
        "def get_valid_data(valid_fn: list = _valid_fn,\n",
        "                   batch_size: int = _batch_size):\n",
        "    df = load_img(valid_fn)\n",
        "    df = df.batch(batch_size).cache().prefetch(_auto_tune)\n",
        "    return df\n",
        "\n",
        "\n",
        "# Reporting the size of training, validation and testing data\n",
        "def report_data_size(train_f=_train_fn,\n",
        "                     valid_f=_valid_fn):\n",
        "    def count_file(x):\n",
        "        return sum([int(re.compile(r\"-([0-9]*)\\.\").search(i).group(1)) for i in x])\n",
        "\n",
        "    n_train, n_valid= count_file(train_f), count_file(valid_f)\n",
        "    print('Train Images: {} | Validation Images: {}'.format(n_train, n_valid))\n",
        "    return n_train, n_valid\n",
        "\n",
        "\n",
        "# Check the size of the data\n",
        "_n_train, _n_valid = report_data_size()\n",
        "\n",
        "# Fetching training, validation and testing data\n",
        "train_data = get_train_data()\n",
        "valid_data = get_valid_data()\n",
        "all_data = get_train_data(train_fn = _train_fn + _valid_fn)\n",
        "\n",
        "print(\"Train Data Size {} | Validation Data Size {}\".format(train_data._flat_shapes, valid_data._flat_shapes))"
      ],
      "execution_count": 5,
      "outputs": [
        {
          "output_type": "stream",
          "text": [
            "Train Images: 18721 | Validation Images: 2676\n",
            "Train Data Size [TensorShape([None, 512, 512, 3]), TensorShape([None, 5])] | Validation Data Size [TensorShape([None, 512, 512, 3]), TensorShape([None, 5])]\n"
          ],
          "name": "stdout"
        }
      ]
    },
    {
      "cell_type": "code",
      "metadata": {
        "id": "xXZrktqizGth"
      },
      "source": [
        "input_module = tf.keras.layers.Input(shape=(*_image_size, _channels))\n",
        "flip_module = tf.keras.layers.experimental.preprocessing.RandomFlip(mode='horizontal_and_vertical')\n",
        "roration_module = tf.keras.layers.experimental.preprocessing.RandomRotation(factor=(-0.4, 0.4))\n",
        "crop_module = tf.keras.layers.experimental.preprocessing.RandomCrop(height=_image_resize_height, width=_image_resize_width)\n",
        "rand_height_module = tf.keras.layers.experimental.preprocessing.RandomHeight(factor=0.25)\n",
        "rand_width_module = tf.keras.layers.experimental.preprocessing.RandomWidth(factor=0.25)\n",
        "contrast_module = tf.keras.layers.experimental.preprocessing.RandomContrast(factor=0.3)\n",
        "zoom_module = tf.keras.layers.experimental.preprocessing.RandomZoom(0.5, 0.3)\n",
        "rescale_module = tf.keras.layers.experimental.preprocessing.Rescaling(scale=1/255)"
      ],
      "execution_count": 6,
      "outputs": []
    },
    {
      "cell_type": "code",
      "metadata": {
        "id": "82OCc4VH000t"
      },
      "source": [
        "from tensorflow.keras.layers import Dense, Conv2D, MaxPool2D, Flatten, Dropout, AveragePooling2D, BatchNormalization\n",
        "from tensorflow.keras.models import Model\n",
        "from tensorflow.keras.optimizers import Adam\n",
        "from keras.losses import categorical_crossentropy\n",
        "from tensorflow.keras import regularizers\n",
        "from keras.applications import Xception\n",
        "\n",
        "def load_model():\n",
        "    base =  Xception(include_top=False, weights = 'imagenet', input_shape = (None,None,3))\n",
        "    x = base.output\n",
        "    x = GlobalAveragePooling2D()(x)\n",
        "    x = Dense(5,\n",
        "              activation='softmax')(x)\n",
        "\n",
        "\n",
        "    # head = base.output\n",
        "    # #head = AveragePooling2D(pool_size=(2,2))(head)\n",
        "    # #head = BatchNormalization()(head)\n",
        "    # #head = Conv2D(filters=128, kernel_size=(3, 3), padding='same', activation='relu', kernel_regularizer=regularizers.l2(l=0.01))(head)\n",
        "    # head = MaxPool2D(pool_size=(2, 2))(head)\n",
        "    # # head = Conv2D(filters=64, kernel_size=(3, 3), padding='same', activation='relu', kernel_regularizer=regularizers.l2(l=0.01))(head)\n",
        "    # # head = MaxPool2D(pool_size=(2, 2))(head)\n",
        "    # head = Flatten()(head)\n",
        "    # head = Dense(32, activation='relu', kernel_regularizer='l1')(head)\n",
        "    # head = Dropout(rate=0.2)(head)\n",
        "    # head = Dense(5, activation='softmax')(head)\n",
        "\n",
        "    m = Model(inputs=base.input, outputs=x)\n",
        "    return m"
      ],
      "execution_count": 15,
      "outputs": []
    },
    {
      "cell_type": "code",
      "metadata": {
        "id": "m4-7Cfmh4gG_"
      },
      "source": [
        "_opt = tf.keras.optimizers.Adam(lr=1e-05)\n",
        "_loss = CategoricalCrossentropy(label_smoothing=0.05)\n",
        "_epochs = 20\n",
        "_finetune_epochs = 10\n",
        "\n",
        "model_ver_4 = load_model()"
      ],
      "execution_count": 16,
      "outputs": []
    },
    {
      "cell_type": "code",
      "metadata": {
        "id": "8Lg9NMXF5KiF"
      },
      "source": [
        "model = tf.keras.Sequential([input_module, \n",
        "                             flip_module,\n",
        "                             roration_module,\n",
        "                             crop_module,\n",
        "                             rand_height_module,\n",
        "                             rand_width_module,\n",
        "                             contrast_module,\n",
        "                             zoom_module,\n",
        "                             model_ver_4])"
      ],
      "execution_count": 17,
      "outputs": []
    },
    {
      "cell_type": "code",
      "metadata": {
        "id": "ObeC4aC86uad"
      },
      "source": [
        "model.compile(\n",
        "        optimizer=_opt,\n",
        "        loss=_loss,\n",
        "        metrics=['categorical_accuracy']\n",
        "    )"
      ],
      "execution_count": 18,
      "outputs": []
    },
    {
      "cell_type": "code",
      "metadata": {
        "colab": {
          "base_uri": "https://localhost:8080/"
        },
        "id": "WkfI0sZV5bYA",
        "outputId": "1bfa9927-bf5e-419a-b84f-0a136afebbd0"
      },
      "source": [
        "model.summary()"
      ],
      "execution_count": 19,
      "outputs": [
        {
          "output_type": "stream",
          "text": [
            "Model: \"sequential_1\"\n",
            "_________________________________________________________________\n",
            "Layer (type)                 Output Shape              Param #   \n",
            "=================================================================\n",
            "random_flip (RandomFlip)     (None, 512, 512, 3)       0         \n",
            "_________________________________________________________________\n",
            "random_rotation (RandomRotat (None, 512, 512, 3)       0         \n",
            "_________________________________________________________________\n",
            "random_crop (RandomCrop)     (None, 336, 336, 3)       0         \n",
            "_________________________________________________________________\n",
            "random_height (RandomHeight) (None, None, 336, 3)      0         \n",
            "_________________________________________________________________\n",
            "random_width (RandomWidth)   (None, None, None, 3)     0         \n",
            "_________________________________________________________________\n",
            "random_contrast (RandomContr (None, None, None, 3)     0         \n",
            "_________________________________________________________________\n",
            "random_zoom (RandomZoom)     (None, None, None, 3)     0         \n",
            "_________________________________________________________________\n",
            "model_1 (Functional)         (None, 5)                 20871725  \n",
            "=================================================================\n",
            "Total params: 20,871,725\n",
            "Trainable params: 20,817,197\n",
            "Non-trainable params: 54,528\n",
            "_________________________________________________________________\n"
          ],
          "name": "stdout"
        }
      ]
    },
    {
      "cell_type": "code",
      "metadata": {
        "colab": {
          "base_uri": "https://localhost:8080/"
        },
        "id": "lAIoGzJmQMx3",
        "outputId": "e678b489-b714-4db0-ec58-2d16a214ba97"
      },
      "source": [
        "_es = EarlyStopping(monitor='val_loss',\n",
        "                    mode='min',\n",
        "                    patience=10)\n",
        "_r = ReduceLROnPlateau(monitor='val_loss',\n",
        "                       factor=0.8,\n",
        "                       patience=2,\n",
        "                       verbose=1,\n",
        "                       mode='auto',\n",
        "                       epsilon=0.0001,\n",
        "                       cooldown=5,\n",
        "                       min_lr=0.00001)\n",
        "_callback = [_es, _r]\n"
      ],
      "execution_count": 20,
      "outputs": [
        {
          "output_type": "stream",
          "text": [
            "WARNING:tensorflow:`epsilon` argument is deprecated and will be removed, use `min_delta` instead.\n"
          ],
          "name": "stdout"
        }
      ]
    },
    {
      "cell_type": "code",
      "metadata": {
        "colab": {
          "base_uri": "https://localhost:8080/"
        },
        "id": "SsA1ysKT5fV2",
        "outputId": "5650482c-a3f8-4f43-de86-df1c0f7af9dc"
      },
      "source": [
        "history = model.fit(train_data, validation_data=valid_data, epochs=_epochs, callbacks=_callback, steps_per_epoch=_n_train//_batch_size)\n",
        "\n",
        "model.save('/content/drive/MyDrive/cassava-leaf-disease-classification/Inception_ver_1.h5')\n",
        "\n",
        "with open('/content/drive/MyDrive/cassava-leaf-disease-classification/Inception_ver_1.pkl', 'wb') as f:\n",
        "    pickle.dump(history.history, f, pickle.HIGHEST_PROTOCOL)"
      ],
      "execution_count": 21,
      "outputs": [
        {
          "output_type": "stream",
          "text": [
            "Epoch 1/20\n",
            "1170/1170 [==============================] - 923s 764ms/step - loss: 1.1943 - categorical_accuracy: 0.5751 - val_loss: 0.8522 - val_categorical_accuracy: 0.7478\n",
            "Epoch 2/20\n",
            "1170/1170 [==============================] - 768s 656ms/step - loss: 0.8260 - categorical_accuracy: 0.7360 - val_loss: 0.7230 - val_categorical_accuracy: 0.7911\n",
            "Epoch 3/20\n",
            "1170/1170 [==============================] - 735s 629ms/step - loss: 0.7288 - categorical_accuracy: 0.7825 - val_loss: 0.6884 - val_categorical_accuracy: 0.8105\n",
            "Epoch 4/20\n",
            "1170/1170 [==============================] - 691s 590ms/step - loss: 0.6937 - categorical_accuracy: 0.7957 - val_loss: 0.6495 - val_categorical_accuracy: 0.8274\n",
            "Epoch 5/20\n",
            "1170/1170 [==============================] - 680s 581ms/step - loss: 0.6759 - categorical_accuracy: 0.8073 - val_loss: 0.6350 - val_categorical_accuracy: 0.8318\n",
            "Epoch 6/20\n",
            "1170/1170 [==============================] - 661s 565ms/step - loss: 0.6458 - categorical_accuracy: 0.8214 - val_loss: 0.6206 - val_categorical_accuracy: 0.8359\n",
            "Epoch 7/20\n",
            "1170/1170 [==============================] - 641s 548ms/step - loss: 0.6361 - categorical_accuracy: 0.8273 - val_loss: 0.5955 - val_categorical_accuracy: 0.8520\n",
            "Epoch 8/20\n",
            "1170/1170 [==============================] - 633s 542ms/step - loss: 0.6257 - categorical_accuracy: 0.8288 - val_loss: 0.6072 - val_categorical_accuracy: 0.8457\n",
            "Epoch 9/20\n",
            "1170/1170 [==============================] - 624s 533ms/step - loss: 0.6189 - categorical_accuracy: 0.8329 - val_loss: 0.5993 - val_categorical_accuracy: 0.8513\n",
            "Epoch 10/20\n",
            "1170/1170 [==============================] - 616s 527ms/step - loss: 0.5946 - categorical_accuracy: 0.8448 - val_loss: 0.5749 - val_categorical_accuracy: 0.8565\n",
            "Epoch 11/20\n",
            "1170/1170 [==============================] - 605s 517ms/step - loss: 0.5906 - categorical_accuracy: 0.8479 - val_loss: 0.5828 - val_categorical_accuracy: 0.8543\n",
            "Epoch 12/20\n",
            "1170/1170 [==============================] - 602s 514ms/step - loss: 0.5812 - categorical_accuracy: 0.8505 - val_loss: 0.5766 - val_categorical_accuracy: 0.8539\n",
            "Epoch 13/20\n",
            "1170/1170 [==============================] - 595s 509ms/step - loss: 0.5789 - categorical_accuracy: 0.8510 - val_loss: 0.5870 - val_categorical_accuracy: 0.8501\n",
            "Epoch 14/20\n",
            "1170/1170 [==============================] - 588s 503ms/step - loss: 0.5742 - categorical_accuracy: 0.8519 - val_loss: 0.5690 - val_categorical_accuracy: 0.8587\n",
            "Epoch 15/20\n",
            "1170/1170 [==============================] - 593s 506ms/step - loss: 0.5611 - categorical_accuracy: 0.8578 - val_loss: 0.5571 - val_categorical_accuracy: 0.8595\n",
            "Epoch 16/20\n",
            "1170/1170 [==============================] - 581s 496ms/step - loss: 0.5621 - categorical_accuracy: 0.8600 - val_loss: 0.5669 - val_categorical_accuracy: 0.8572\n",
            "Epoch 17/20\n",
            "1170/1170 [==============================] - 577s 493ms/step - loss: 0.5495 - categorical_accuracy: 0.8649 - val_loss: 0.5703 - val_categorical_accuracy: 0.8580\n",
            "Epoch 18/20\n",
            "1170/1170 [==============================] - 579s 495ms/step - loss: 0.5459 - categorical_accuracy: 0.8672 - val_loss: 0.5726 - val_categorical_accuracy: 0.8554\n",
            "Epoch 19/20\n",
            "1170/1170 [==============================] - 574s 490ms/step - loss: 0.5466 - categorical_accuracy: 0.8657 - val_loss: 0.5507 - val_categorical_accuracy: 0.8629\n",
            "Epoch 20/20\n",
            "1170/1170 [==============================] - 572s 489ms/step - loss: 0.5371 - categorical_accuracy: 0.8660 - val_loss: 0.5594 - val_categorical_accuracy: 0.8602\n"
          ],
          "name": "stdout"
        }
      ]
    },
    {
      "cell_type": "code",
      "metadata": {
        "colab": {
          "base_uri": "https://localhost:8080/",
          "height": 278
        },
        "id": "U5bnLVBbg4yj",
        "outputId": "4e89c6a9-d1f3-47f7-82ab-83e234468b29"
      },
      "source": [
        "plt.plot(history.history['val_categorical_accuracy'], label='Validation Acc.')\n",
        "plt.plot(history.history['categorical_accuracy'], label='Train Acc.')\n",
        "plt.xlabel('Epochs')\n",
        "plt.ylabel('Accuracy')\n",
        "plt.legend()\n",
        "plt.show()"
      ],
      "execution_count": 22,
      "outputs": [
        {
          "output_type": "display_data",
          "data": {
            "image/png": "[encoded data removed]",
            "text/plain": [
              "<Figure size 432x288 with 1 Axes>"
            ]
          },
          "metadata": {
            "tags": [],
            "needs_background": "light"
          }
        }
      ]
    },
    {
      "cell_type": "code",
      "metadata": {
        "colab": {
          "base_uri": "https://localhost:8080/",
          "height": 278
        },
        "id": "ZIgtJ3ighD6Y",
        "outputId": "8c97efee-2514-4baa-8147-f2bc59d8fa13"
      },
      "source": [
        "plt.plot(history.history['val_loss'], label='Validation loss')\n",
        "plt.plot(history.history['loss'], label='Train loss')\n",
        "plt.xlabel('Epochs')\n",
        "plt.ylabel('LOSS')\n",
        "plt.legend()\n",
        "plt.show()"
      ],
      "execution_count": 23,
      "outputs": [
        {
          "output_type": "display_data",
          "data": {
            "image/png": "[encoded data removed]",
            "text/plain": [
              "<Figure size 432x288 with 1 Axes>"
            ]
          },
          "metadata": {
            "tags": [],
            "needs_background": "light"
          }
        }
      ]
    },
    {
      "cell_type": "code",
      "metadata": {
        "id": "b-w1uCv5hG9s"
      },
      "source": [
        "model.save('/content/drive/MyDrive/cassava-leaf-disease-classification/Xception_ver_1.h5')"
      ],
      "execution_count": 25,
      "outputs": []
    }
  ]
}