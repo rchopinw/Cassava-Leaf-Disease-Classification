{
 "cells": [
  {
   "metadata": {
    "_uuid": "8f2839f25d086af736a60e9eeb907d3b93b6e0e5",
    "_cell_guid": "b1076dfc-b9ad-4769-8c92-a6c4dae69d19",
    "trusted": true
   },
   "cell_type": "code",
   "source": [
    "# This Python 3 environment comes with many helpful analytics libraries installed\n",
    "# It is defined by the kaggle/python Docker image: https://github.com/kaggle/docker-python\n",
    "# For example, here's several helpful packages to load\n",
    "\n",
    "import numpy as np # linear algebra\n",
    "import pandas as pd # data processing, CSV file I/O (e.g. pd.read_csv)\n",
    "\n",
    "# Input data files are available in the read-only \"../input/\" directory\n",
    "# For example, running this (by clicking run or pressing Shift+Enter) will list all files under the input directory\n",
    "\n",
    "import os\n",
    "# for dirname, _, filenames in os.walk('/kaggle/input'):\n",
    "#     for filename in filenames:\n",
    "#         print(os.path.join(dirname, filename))\n",
    "\n",
    "# You can write up to 20GB to the current directory (/kaggle/working/) that gets preserved as output when you create a version using \"Save & Run All\" \n",
    "# You can also write temporary files to /kaggle/temp/, but they won't be saved outside of the current session"
   ],
   "execution_count": null,
   "outputs": []
  },
  {
   "metadata": {
    "trusted": true
   },
   "cell_type": "code",
   "source": [
    "# A baseline model based on VGG16\n",
    "# Group members: Bangxi Xiao, Daxin Niu, Wendy Huai\n",
    "# Contact: bangxi_xiao@brown.edu, daxin_niu@brown.edu, zuxuan_huai@brown.edu\n",
    "\n",
    "# This file implements a baseline model for cassava leaf disease classification\n",
    "\n",
    "import time\n",
    "import pickle\n",
    "import numpy as np\n",
    "import pandas as pd\n",
    "import shutil, os\n",
    "from tensorflow.keras.layers import Dense, Flatten, Dropout, Conv2D, MaxPool2D, Input\n",
    "import json\n",
    "from scipy import stats\n",
    "from tensorflow.keras import Model, Sequential\n",
    "from tensorflow.keras.regularizers import l1\n",
    "from tensorflow.keras.callbacks import EarlyStopping, TensorBoard\n",
    "from tensorflow.keras.optimizers import Adam\n",
    "from tensorflow.keras.optimizers.schedules import ExponentialDecay\n",
    "from tensorflow.keras.applications import VGG16\n",
    "from matplotlib import pyplot as plt\n",
    "from tensorflow.keras.preprocessing.image import ImageDataGenerator, img_to_array, load_img\n",
    "import seaborn as sns\n",
    "from sklearn.model_selection import train_test_split\n",
    "from PIL import Image, ImageStat\n",
    "from skimage import io, color\n",
    "\n",
    "# Loading the training data\n",
    "train_raw = pd.read_csv('/kaggle/input/cassava-leaf-disease-classification/train.csv', encoding='utf_8_sig', engine='python')\n",
    "print(train_raw.head())\n"
   ],
   "execution_count": null,
   "outputs": []
  },
  {
   "metadata": {
    "trusted": true
   },
   "cell_type": "code",
   "source": [
    "_batch_size = 32\n",
    "_image_width = 160\n",
    "_image_height = 120\n",
    "\n",
    "\n",
    "# def file_move(file_names, labels, train=True, pic_file='D:\\\\proj\\\\cassava-leaf-disease-classification\\\\train_images\\\\'):\n",
    "#     if train:\n",
    "#         front = 'train\\\\'\n",
    "#     else:\n",
    "#         front = 'test\\\\'\n",
    "#     for fn, label in zip(file_names, labels):\n",
    "#         if os.path.exists(pic_file + front + str(label)):\n",
    "#             shutil.move(pic_file + fn, pic_file + front + str(label))\n",
    "#         else:\n",
    "#             os.makedirs(pic_file + front + str(label))\n",
    "#             shutil.move(pic_file + fn, pic_file + front + str(label))\n",
    "#     print('DONE.')\n",
    "\n",
    "\n",
    "train_raw['label'] = train_raw['label'].astype(str)\n",
    "x_train, x_test, y_train, y_test = train_test_split(train_raw['image_id'], train_raw['label'], test_size=0.2)\n",
    "xy_train = pd.DataFrame({'x': x_train, 'y': y_train})\n",
    "xy_test = pd.DataFrame({'x': x_test, 'y': y_test})\n",
    "\n",
    "# file_move(x_train.tolist(), y_train.tolist(), True)\n",
    "# file_move(x_test.tolist(), y_test.tolist(), False)\n",
    "\n",
    "train_data_gen = ImageDataGenerator(\n",
    "    rescale=1. / 255,\n",
    "    shear_range=0.2,\n",
    "    zoom_range=0.2,\n",
    "    horizontal_flip=True,\n",
    "    validation_split=0.2\n",
    ")\n",
    "\n",
    "\n",
    "train_generator = train_data_gen.flow_from_dataframe(dataframe=train_raw,\n",
    "                                                     directory='/kaggle/input/cassava-leaf-disease-classification/train_images',\n",
    "                                                     subset='training',\n",
    "                                                     x_col='image_id',\n",
    "                                                     y_col='label',\n",
    "                                                     shuffle=True,\n",
    "                                                     target_size=(160, 120),\n",
    "                                                     batch_size=32,\n",
    "                                                     class_mode='categorical')\n",
    "\n",
    "\n",
    "validation_generator = train_data_gen.flow_from_dataframe(dataframe=train_raw,\n",
    "                                                          directory='/kaggle/input/cassava-leaf-disease-classification/train_images',\n",
    "                                                          subset='validation',\n",
    "                                                          x_col='image_id',\n",
    "                                                          y_col='label',\n",
    "                                                          shuffle=True,\n",
    "                                                          target_size=(160, 120),\n",
    "                                                          batch_size=32,\n",
    "                                                          class_mode='categorical')\n",
    "\n",
    "\n",
    "def tb_callback(exp_name):\n",
    "    return TensorBoard(log_dir=_log_dir + exp_name, profile_batch=0, histogram_freq=1)\n",
    "\n",
    "\n",
    "def build_baseline_vgg():\n",
    "    input_shape = (160, 120, 3)\n",
    "    baseline_model = VGG16(weights=None, include_top=False, input_shape=input_shape)\n",
    "    x = baseline_model.output\n",
    "    x = Flatten()(x)\n",
    "    x = Dense(512, activation='relu')(x)\n",
    "    x = Dropout(rate=0.25)(x)\n",
    "\n",
    "    x = Dense(256, activation='relu')(x)\n",
    "    x = Dropout(rate=0.25)(x)\n",
    "\n",
    "    x = Dense(128, activation='relu')(x)\n",
    "    x = Dropout(rate=0.25)(x)\n",
    "\n",
    "    predictions = Dense(5, activation='softmax')(x)\n",
    "    model = Model(inputs=baseline_model.input, outputs=predictions)\n",
    "    model.compile(optimizer=_opt,\n",
    "                  loss=_loss,\n",
    "                  metrics=_metrics)\n",
    "    \n",
    "    print(model.summary())\n",
    "    \n",
    "    return model"
   ],
   "execution_count": null,
   "outputs": []
  },
  {
   "metadata": {
    "trusted": true
   },
   "cell_type": "code",
   "source": [
    "_shuffle = True\n",
    "\n",
    "_log_dir = '/kaggle/ouput/logs/baseline_model/'\n",
    "_seed = 27\n",
    "_learning_rate = 0.0001\n",
    "_schedule = ExponentialDecay(_learning_rate, decay_steps=10_0000, decay_rate=0.96)\n",
    "_opt = Adam(learning_rate=_schedule)\n",
    "_es = EarlyStopping(monitor='val_accuracy', patience=20)\n",
    "_tb = tb_callback('Baseline_model_1')\n",
    "_callbacks = [_es, _tb]\n",
    "_metrics = ['accuracy']\n",
    "_loss = 'categorical_crossentropy'\n",
    "_epochs = 4\n",
    "\n",
    "\n",
    "baseline_model1 = build_baseline_vgg()\n",
    "baseline_model1_hist = baseline_model1.fit(train_generator,\n",
    "                                           epochs=_epochs,\n",
    "                                           validation_data=validation_generator,\n",
    "                                           callbacks=_callbacks,\n",
    "                                           shuffle=_shuffle)\n"
   ],
   "execution_count": null,
   "outputs": []
  },
  {
   "metadata": {
    "trusted": true
   },
   "cell_type": "code",
   "source": [
    "# save model\n",
    "from keras.models import load_model\n",
    "import os\n",
    "def save_model(model, name):\n",
    "  model_name = '{}.h5'.format(name)\n",
    "  save_dir = os.path.join(os.getcwd(), 'saved_models')\n",
    "  \n",
    "  # Save model and weights\n",
    "  if not os.path.isdir(save_dir):\n",
    "      os.makedirs(save_dir)\n",
    "  model_path = os.path.join(save_dir, model_name)\n",
    "  model.save(model_path)\n",
    "  print('Saved trained model at %s ' % model_path)"
   ],
   "execution_count": null,
   "outputs": []
  },
  {
   "metadata": {
    "trusted": true
   },
   "cell_type": "code",
   "source": [
    "save_model(baseline_model1, 'baseline_model1')"
   ],
   "execution_count": null,
   "outputs": []
  },
  {
   "metadata": {
    "trusted": true
   },
   "cell_type": "code",
   "source": [
    "# Make sure to save the model you trained to /kaggle/working! \n",
    "import pandas as pd\n",
    "import numpy as np\n",
    "import tensorflow as tf\n",
    "from tensorflow import keras\n",
    "from tensorflow.keras.preprocessing.image import smart_resize\n",
    "## Load model. Use \"load_weights\" if you only save your model weights.\n",
    "model = keras.models.load_model(\"./saved_models/baseline_model1.h5\")\n",
    "\n",
    "preds = []\n",
    "sample_sub = pd.read_csv('/kaggle/input/cassava-leaf-disease-classification/sample_submission.csv')\n",
    "\n",
    "sample_sub.head()"
   ],
   "execution_count": null,
   "outputs": []
  },
  {
   "metadata": {
    "trusted": true,
    "pycharm": {
     "name": "#%%\n"
    }
   },
   "cell_type": "code",
   "source": [
    "for image in sample_sub.image_id:\n",
    "    img = keras.preprocessing.image.load_img('/kaggle/input/cassava-leaf-disease-classification/test_images/' + image)\n",
    "    #\n",
    "    # Preprocess image here (rescale, etc. - you might need to use parameters you determined during training)\n",
    "    #\n",
    "    img = img_to_array(img)\n",
    "    img = smart_resize(img, (160, 120))\n",
    "    img = tf.reshape(img, (-1, 160, 120, 3))\n",
    "    \n",
    "    # Now apply your model and save your prediction:\n",
    "    prediction = model.predict(img)\n",
    "    \n",
    "    preds.append(np.argmax(prediction))\n",
    "\n",
    "my_submission = pd.DataFrame({'image_id': sample_sub.image_id, 'label': preds})\n",
    "my_submission.to_csv('/kaggle/working/submission.csv', index=False)"
   ],
   "execution_count": null,
   "outputs": []
  }
 ],
 "metadata": {
  "kernelspec": {
   "name": "python3",
   "display_name": "Python 3",
   "language": "python"
  },
  "language_info": {
   "name": "python",
   "version": "3.7.9",
   "mimetype": "text/x-python",
   "codemirror_mode": {
    "name": "ipython",
    "version": 3
   },
   "pygments_lexer": "ipython3",
   "nbconvert_exporter": "python",
   "file_extension": ".py"
  }
 },
 "nbformat": 4,
 "nbformat_minor": 4
}