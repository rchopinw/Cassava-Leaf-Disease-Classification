{
  "nbformat": 4,
  "nbformat_minor": 0,
  "metadata": {
    "colab": {
      "name": "Cassava3.ipynb",
      "provenance": [],
      "toc_visible": true,
      "machine_shape": "hm"
    },
    "kernelspec": {
      "name": "python3",
      "display_name": "Python 3"
    },
    "accelerator": "GPU"
  },
  "cells": [
    {
      "cell_type": "code",
      "metadata": {
        "id": "OcOdZxxNXnSO"
      },
      "source": [
        "import pandas as pd\n",
        "import numpy as np\n",
        "import cv2"
      ],
      "execution_count": null,
      "outputs": []
    },
    {
      "cell_type": "code",
      "metadata": {
        "colab": {
          "base_uri": "https://localhost:8080/"
        },
        "id": "n91uCPN6XX9A",
        "outputId": "c53e1461-76dc-47eb-eccc-cb151a535962"
      },
      "source": [
        "from google.colab import drive\n",
        "drive.mount('/content/drive')"
      ],
      "execution_count": null,
      "outputs": [
        {
          "output_type": "stream",
          "text": [
            "Drive already mounted at /content/drive; to attempt to forcibly remount, call drive.mount(\"/content/drive\", force_remount=True).\n"
          ],
          "name": "stdout"
        }
      ]
    },
    {
      "cell_type": "markdown",
      "metadata": {
        "id": "45RwJByBYCx0"
      },
      "source": [
        "### Data Collection"
      ]
    },
    {
      "cell_type": "markdown",
      "metadata": {
        "id": "y8u8EayjD0zl"
      },
      "source": [
        "## TFRecord"
      ]
    },
    {
      "cell_type": "code",
      "metadata": {
        "id": "XRfU7ByMGfa9"
      },
      "source": [
        "# Library import\n",
        "import pandas as pd\n",
        "import os\n",
        "import re\n",
        "import tensorflow as tf\n",
        "from tensorflow.keras.callbacks import EarlyStopping, TensorBoard\n",
        "from tensorflow.keras.optimizers import Adam\n",
        "from tensorflow.keras.optimizers.schedules import ExponentialDecay\n",
        "from tensorflow.keras.applications import VGG16\n",
        "from functools import partial\n",
        "from sklearn.model_selection import train_test_split"
      ],
      "execution_count": null,
      "outputs": []
    },
    {
      "cell_type": "code",
      "metadata": {
        "id": "pULb8Y-uN7f9",
        "colab": {
          "base_uri": "https://localhost:8080/"
        },
        "outputId": "8e6e504a-e347-4527-d2a0-2f134076ea7b"
      },
      "source": [
        "# Constant Variables:\n",
        "_auto_tune = tf.data.experimental.AUTOTUNE\n",
        "_batch_size = 32\n",
        "\n",
        "_image_width_original = 512\n",
        "_image_height_original = 512\n",
        "_image_size = [_image_width_original, _image_height_original]\n",
        "\n",
        "_image_resize_width = 400\n",
        "_image_resize_height = 400\n",
        "_image_resize = [_image_resize_width, _image_resize_height]\n",
        "print('Model input shape {} x {}.'.format(_image_resize_width, _image_resize_height))\n",
        "\n",
        "_channels = 3\n",
        "_n_class = 5\n",
        "_n_repeat = 4\n",
        "_img_norm = 255.0\n",
        "\n",
        "_classes = [str(x) for x in range(_n_class)]\n",
        "_major_label = 3\n",
        "_classes_names = ['Cassava Bacterial Blight',\n",
        "                  'Cassava Brown Streak Disease',\n",
        "                  'Cassava Green Mottle',\n",
        "                  'Cassava Mosaic Disease',\n",
        "                  'Healthy']\n",
        "_train_file = '/content/drive/MyDrive/sleepy_guys/cassava-leaf-disease-classification/train_tfrecords/'\n",
        "_train_recs = os.listdir(_train_file)\n",
        "_test_file = '/content/drive/MyDrive/sleepy_guys/cassava-leaf-disease-classification/test_tfrecords/'\n",
        "_test_recs = os.listdir(_test_file)\n",
        "_epochs = 300\n",
        "_valid_size = 0.1\n",
        "_train_df = pd.read_csv('/content/drive/MyDrive/sleepy_guys/cassava-leaf-disease-classification/train.csv', encoding='utf_8_sig', engine='python')\n",
        "_file_label_map = dict(zip(_train_df.image_id.tolist(), _train_df.label.astype(int).tolist()))\n",
        "_random_corp_size = [_image_resize_width, _image_resize_height, _channels]\n"
      ],
      "execution_count": null,
      "outputs": [
        {
          "output_type": "stream",
          "text": [
            "Model input shape 400 x 400.\n"
          ],
          "name": "stdout"
        }
      ]
    },
    {
      "cell_type": "code",
      "metadata": {
        "id": "TA5gIteaN-a_"
      },
      "source": [
        "# Decoding single image:\n",
        "def decode_img(img,\n",
        "               n_channels: int = _channels,\n",
        "               img_size: list = None,\n",
        "               img_norm : float = _img_norm):\n",
        "    if img_size is None:\n",
        "        img_size = _image_size\n",
        "    img = tf.image.decode_jpeg(img, channels=n_channels)\n",
        "    img = tf.reshape(img, [*img_size, n_channels])\n",
        "    img = tf.cast(img, tf.float32) / img_norm\n",
        "    return img\n",
        "\n",
        "\n",
        "# Parsing the files\n",
        "def parse_img(x,\n",
        "              n_class: int = _n_class):\n",
        "    feature_description = {'image': tf.io.FixedLenFeature([], tf.string, default_value=''),\n",
        "                           'target': tf.io.FixedLenFeature([], tf.int64, default_value=-1)}\n",
        "    parsed_features = tf.io.parse_single_example(x, feature_description)\n",
        "    img = decode_img(parsed_features['image'])\n",
        "    label = tf.one_hot(parsed_features['target'], depth=n_class)\n",
        "    return img, label\n",
        "\n",
        "\n",
        "# Load data\n",
        "def load_img(files: list):\n",
        "    df = tf.data.TFRecordDataset(files)\n",
        "    df = df.map(parse_img)\n",
        "    return df\n",
        "\n",
        "\n",
        "# Resize image\n",
        "def resize_img(img,\n",
        "               label,\n",
        "               shape=None):\n",
        "    if shape is None:\n",
        "        shape = _image_resize\n",
        "    return tf.image.resize(img, shape), label\n",
        "\n",
        "\n",
        "# Sampling by randomly corp the picture with a fixed size:\n",
        "def random_corp_sample_img(df,\n",
        "                           corp_size=None,\n",
        "                           n_repeat=_n_repeat):\n",
        "    if corp_size is None:\n",
        "        corp_size = _image_resize\n",
        "    df_r = df.map(random_corp_img)\n",
        "    for _ in range(n_repeat-1):\n",
        "        df_r = df_r.concatenate(df.map(random_corp_img))\n",
        "    return df_r\n",
        "\n",
        "\n",
        "# Random corp:\n",
        "def random_corp_img(img,\n",
        "                    label,\n",
        "                    size=None):\n",
        "    if size is None:\n",
        "        size = _random_corp_size\n",
        "    img = tf.image.random_crop(img, size=size)\n",
        "    return img, label\n",
        "\n",
        "\n",
        "# Data Augmentation\n",
        "def augment_img(img,\n",
        "                label):\n",
        "    img = tf.image.random_flip_left_right(img)\n",
        "    img = tf.image.random_flip_up_down(img)\n",
        "    img = tf.image.random_brightness(img, 0.5)\n",
        "    img = tf.image.random_contrast(img, 0, 1)\n",
        "    return img, label\n"
      ],
      "execution_count": null,
      "outputs": []
    },
    {
      "cell_type": "code",
      "metadata": {
        "id": "Neq4ah_mOCAZ"
      },
      "source": [
        "# Train-validation split\n",
        "_train_fn, _valid_fn = \\\n",
        "    train_test_split(tf.io.gfile.glob(_train_file + 'ld_train*.tfrec'),\n",
        "                     test_size=_valid_size,\n",
        "                     random_state=5,\n",
        "                     shuffle=True)\n",
        "_test_fn = tf.io.gfile.glob(_test_file + 'ld_test*.tfrec')"
      ],
      "execution_count": null,
      "outputs": []
    },
    {
      "cell_type": "code",
      "metadata": {
        "id": "jRrwBgbmOEpz"
      },
      "source": [
        "# Function for getting the training data set\n",
        "def get_train_data(train_fn: list = _train_fn,\n",
        "                   batch_size: int = _batch_size):\n",
        "    df = load_img(train_fn)\n",
        "\n",
        "    df_minor = df.filter(lambda x, y: tf.argmax(y) != _major_label)\n",
        "\n",
        "    df_major = df.map(resize_img)\n",
        "    df_minor = random_corp_sample_img(df_minor)\n",
        "    df = df_major.concatenate(df_minor)\n",
        "\n",
        "    df = df.map(augment_img)\n",
        "    df = df.shuffle(buffer_size=2048)\n",
        "    df = df.batch(batch_size).repeat()\n",
        "    return df\n",
        "\n",
        "def get_train_data2(train_fn: list = _train_fn,\n",
        "                   batch_size: int = _batch_size):\n",
        "    df = load_img(train_fn)\n",
        "\n",
        "    # df_minor = df.filter(lambda x, y: tf.argmax(y) != _major_label)\n",
        "\n",
        "    # df_major = df.map(resize_img)\n",
        "    # df_minor = random_corp_sample_img(df_minor)\n",
        "    # df = df_major.concatenate(df_minor)\n",
        "    df = df.map(resize_img)\n",
        "    df = df.map(augment_img)\n",
        "    df = df.shuffle(buffer_size=2048)\n",
        "    df = df.batch(batch_size).repeat()\n",
        "    return df\n",
        "\n",
        "# Function for getting the validation data set\n",
        "def get_valid_data(valid_fn: list = _valid_fn,\n",
        "                   batch_size: int = _batch_size):\n",
        "    df = load_img(valid_fn)\n",
        "    df = df.map(resize_img)\n",
        "    df = df.batch(batch_size).cache()\n",
        "    return df\n",
        "\n",
        "\n",
        "# Function for getting the testing data set\n",
        "def get_test_data(test_fn: list = _test_fn,\n",
        "                  batch_size: int = _batch_size):\n",
        "    df = load_img(test_fn)\n",
        "    df = df.map(resize_img)\n",
        "    df = df.batch(batch_size)\n",
        "    return df\n",
        "\n",
        "\n",
        "# Reporting the size of training, validation and testing data\n",
        "def report_data_size(train_f=_train_fn,\n",
        "                     valid_f=_valid_fn,\n",
        "                     test_f=_test_fn):\n",
        "    def count_file(x):\n",
        "        return sum([int(re.compile(r\"-([0-9]*)\\.\").search(i).group(1)) for i in x])\n",
        "    n_train, n_valid, n_test = count_file(train_f), count_file(valid_f), count_file(test_f)\n",
        "    print('Train Images: {} | Validation Images: {} | Test Images: {}'.format(n_train, n_valid, n_test))\n",
        "    return n_train, n_valid, n_test\n"
      ],
      "execution_count": null,
      "outputs": []
    },
    {
      "cell_type": "code",
      "metadata": {
        "id": "GogrlZo7OJp4",
        "colab": {
          "base_uri": "https://localhost:8080/"
        },
        "outputId": "99c7fcaf-7e42-4cbe-bfde-7ff6b342ea20"
      },
      "source": [
        "# Check the size of the data\n",
        "_n_train, _n_valid, _n_test = report_data_size()"
      ],
      "execution_count": null,
      "outputs": [
        {
          "output_type": "stream",
          "text": [
            "Train Images: 18721 | Validation Images: 2676 | Test Images: 1\n"
          ],
          "name": "stdout"
        }
      ]
    },
    {
      "cell_type": "code",
      "metadata": {
        "id": "OYjSXxvfOL7x"
      },
      "source": [
        "# Fetching training, validation and testing data\n",
        "train_data = get_train_data2()\n",
        "valid_data = get_valid_data()\n",
        "test_data = get_test_data()"
      ],
      "execution_count": null,
      "outputs": []
    },
    {
      "cell_type": "code",
      "metadata": {
        "id": "B6fEL1F_OPea",
        "colab": {
          "base_uri": "https://localhost:8080/"
        },
        "outputId": "dd847418-dbf4-4339-c922-8d648d3baa94"
      },
      "source": [
        "print(\"Train Data Size {} | Validation Data Size {} | Test Data Size {}\".format(train_data._flat_shapes, valid_data._flat_shapes, test_data._flat_shapes))"
      ],
      "execution_count": null,
      "outputs": [
        {
          "output_type": "stream",
          "text": [
            "Train Data Size [TensorShape([None, 400, 400, 3]), TensorShape([None, 5])] | Validation Data Size [TensorShape([None, 400, 400, 3]), TensorShape([None, 5])] | Test Data Size [TensorShape([None, 400, 400, 3]), TensorShape([None, 5])]\n"
          ],
          "name": "stdout"
        }
      ]
    },
    {
      "cell_type": "markdown",
      "metadata": {
        "id": "Bfmsxq6LNyqI"
      },
      "source": [
        "## Model building and training"
      ]
    },
    {
      "cell_type": "code",
      "metadata": {
        "id": "kuj447TiohF0"
      },
      "source": [
        "EPOCHS = 100\n",
        "BATCH_SIZE = 64\n",
        "LR = 0.001"
      ],
      "execution_count": null,
      "outputs": []
    },
    {
      "cell_type": "code",
      "metadata": {
        "id": "J_y77tNioj1L"
      },
      "source": [
        "from tensorflow.keras.applications import ResNet152V2\n",
        "from tensorflow.keras.layers import Input\n",
        "\n",
        "base = ResNet152V2(include_top=False, weights = 'imagenet', input_shape = (400,400,3))"
      ],
      "execution_count": null,
      "outputs": []
    },
    {
      "cell_type": "code",
      "metadata": {
        "id": "aswJjRFbopF2"
      },
      "source": [
        "from tensorflow.keras.layers import Dense, Conv2D, MaxPool2D, Flatten, Dropout, AveragePooling2D, BatchNormalization\n",
        "from tensorflow.keras.models import Model\n",
        "from tensorflow.keras.optimizers import Adam\n",
        "from keras.losses import categorical_crossentropy\n",
        "from tensorflow.keras import regularizers\n",
        "\n",
        "#Construct structure after ResNet\n",
        "head = base.output\n",
        "head = AveragePooling2D(pool_size=(2,2))(head)\n",
        "head = BatchNormalization()(head)\n",
        "head = Conv2D(filters=32, kernel_size=(3, 3), padding='same', activation='relu')(head)\n",
        "head = MaxPool2D(pool_size=(2, 2))(head)\n",
        "head = Conv2D(filters=64, kernel_size=(3, 3), padding='same', activation='relu')(head)\n",
        "head = MaxPool2D(pool_size=(2, 2))(head)\n",
        "head = Flatten()(head)\n",
        "head = Dense(256, activation='relu', kernel_initializer=\"he_normal\")(head)\n",
        "head = Dense(128, activation='relu')(head)\n",
        "#head = Dropout(rate=0.2)(head)\n",
        "head = Dense(5, activation='softmax')(head)\n",
        "\n",
        "# Combine the model\n",
        "model = Model(inputs=base.input, outputs=head)\n",
        "\n",
        "# Freeze base layers\n",
        "base.trainable = False\n",
        "\n",
        "# Compile the model\n",
        "model.compile(loss=categorical_crossentropy, optimizer=Adam(learning_rate = LR), metrics=['accuracy'])"
      ],
      "execution_count": null,
      "outputs": []
    },
    {
      "cell_type": "code",
      "metadata": {
        "id": "ISI1t1AUorUu"
      },
      "source": [
        "from tensorflow.keras.preprocessing.image import ImageDataGenerator\n",
        "\n",
        "trainAug = ImageDataGenerator(\n",
        "    rotation_range=20,\n",
        "    horizontal_flip=True\n",
        ")"
      ],
      "execution_count": null,
      "outputs": []
    },
    {
      "cell_type": "code",
      "metadata": {
        "id": "acbIot5hotFw"
      },
      "source": [
        "# Add Earlystopping to monitor validation loss\n",
        "from tensorflow.keras.callbacks import EarlyStopping\n",
        "callback = EarlyStopping(monitor = 'val_loss', mode = 'min', patience = 5)"
      ],
      "execution_count": null,
      "outputs": []
    },
    {
      "cell_type": "code",
      "metadata": {
        "id": "rjz9cGQrot0f",
        "colab": {
          "base_uri": "https://localhost:8080/"
        },
        "outputId": "11e203ae-3661-449a-ef57-b8e4d3355d40"
      },
      "source": [
        "# Train model\n",
        "H = model.fit(\n",
        "    train_data,\n",
        "    epochs=EPOCHS,\n",
        "    validation_data=valid_data,\n",
        "    steps_per_epoch=_n_train // BATCH_SIZE,\n",
        "    validation_steps=_n_valid // BATCH_SIZE\n",
        ")"
      ],
      "execution_count": null,
      "outputs": [
        {
          "output_type": "stream",
          "text": [
            "Epoch 1/100\n",
            "292/292 [==============================] - 168s 499ms/step - loss: 1.0915 - accuracy: 0.6229 - val_loss: 0.7889 - val_accuracy: 0.7020\n",
            "Epoch 2/100\n",
            "292/292 [==============================] - 130s 444ms/step - loss: 0.8127 - accuracy: 0.6927 - val_loss: 0.7403 - val_accuracy: 0.7264\n",
            "Epoch 3/100\n",
            "292/292 [==============================] - 155s 532ms/step - loss: 0.7917 - accuracy: 0.7135 - val_loss: 0.6530 - val_accuracy: 0.7660\n",
            "Epoch 4/100\n",
            "292/292 [==============================] - 127s 433ms/step - loss: 0.7503 - accuracy: 0.7250 - val_loss: 0.6327 - val_accuracy: 0.7675\n",
            "Epoch 5/100\n",
            "292/292 [==============================] - 153s 526ms/step - loss: 0.7570 - accuracy: 0.7290 - val_loss: 0.6303 - val_accuracy: 0.7691\n",
            "Epoch 6/100\n",
            "292/292 [==============================] - 126s 432ms/step - loss: 0.7077 - accuracy: 0.7485 - val_loss: 0.6003 - val_accuracy: 0.7828\n",
            "Epoch 7/100\n",
            "292/292 [==============================] - 156s 535ms/step - loss: 0.7009 - accuracy: 0.7441 - val_loss: 0.6310 - val_accuracy: 0.7729\n",
            "Epoch 8/100\n",
            "292/292 [==============================] - 130s 445ms/step - loss: 0.6770 - accuracy: 0.7571 - val_loss: 0.6176 - val_accuracy: 0.7812\n",
            "Epoch 9/100\n",
            "292/292 [==============================] - 153s 525ms/step - loss: 0.6918 - accuracy: 0.7487 - val_loss: 0.6422 - val_accuracy: 0.7759\n",
            "Epoch 10/100\n",
            "292/292 [==============================] - 128s 438ms/step - loss: 0.6453 - accuracy: 0.7692 - val_loss: 0.6329 - val_accuracy: 0.7782\n",
            "Epoch 11/100\n",
            "292/292 [==============================] - 154s 528ms/step - loss: 0.6654 - accuracy: 0.7598 - val_loss: 0.6046 - val_accuracy: 0.7805\n",
            "Epoch 12/100\n",
            "292/292 [==============================] - 131s 449ms/step - loss: 0.6286 - accuracy: 0.7762 - val_loss: 0.5747 - val_accuracy: 0.7988\n",
            "Epoch 13/100\n",
            "292/292 [==============================] - 154s 529ms/step - loss: 0.6816 - accuracy: 0.7602 - val_loss: 0.5940 - val_accuracy: 0.7835\n",
            "Epoch 14/100\n",
            "292/292 [==============================] - 131s 450ms/step - loss: 0.6267 - accuracy: 0.7741 - val_loss: 0.5910 - val_accuracy: 0.7950\n",
            "Epoch 15/100\n",
            "292/292 [==============================] - 152s 523ms/step - loss: 0.6272 - accuracy: 0.7684 - val_loss: 0.6221 - val_accuracy: 0.7729\n",
            "Epoch 16/100\n",
            "292/292 [==============================] - 132s 452ms/step - loss: 0.6047 - accuracy: 0.7832 - val_loss: 0.5835 - val_accuracy: 0.7881\n",
            "Epoch 17/100\n",
            "292/292 [==============================] - 151s 518ms/step - loss: 0.6201 - accuracy: 0.7747 - val_loss: 0.5963 - val_accuracy: 0.7820\n",
            "Epoch 18/100\n",
            "292/292 [==============================] - 130s 446ms/step - loss: 0.6150 - accuracy: 0.7840 - val_loss: 0.5756 - val_accuracy: 0.7973\n",
            "Epoch 19/100\n",
            "292/292 [==============================] - 153s 526ms/step - loss: 0.6061 - accuracy: 0.7824 - val_loss: 0.5886 - val_accuracy: 0.7858\n",
            "Epoch 20/100\n",
            "292/292 [==============================] - 133s 455ms/step - loss: 0.5813 - accuracy: 0.7939 - val_loss: 0.6370 - val_accuracy: 0.7774\n",
            "Epoch 21/100\n",
            "292/292 [==============================] - 150s 516ms/step - loss: 0.6090 - accuracy: 0.7866 - val_loss: 0.5929 - val_accuracy: 0.7835\n",
            "Epoch 22/100\n",
            "292/292 [==============================] - 133s 456ms/step - loss: 0.5825 - accuracy: 0.7896 - val_loss: 0.6651 - val_accuracy: 0.7599\n",
            "Epoch 23/100\n",
            "292/292 [==============================] - 151s 517ms/step - loss: 0.6014 - accuracy: 0.7870 - val_loss: 0.5701 - val_accuracy: 0.7904\n",
            "Epoch 24/100\n",
            "292/292 [==============================] - 135s 462ms/step - loss: 0.5732 - accuracy: 0.7881 - val_loss: 0.6146 - val_accuracy: 0.7835\n",
            "Epoch 25/100\n",
            "292/292 [==============================] - 149s 512ms/step - loss: 0.5626 - accuracy: 0.7963 - val_loss: 0.6106 - val_accuracy: 0.7858\n",
            "Epoch 26/100\n",
            "292/292 [==============================] - 134s 458ms/step - loss: 0.5542 - accuracy: 0.8032 - val_loss: 0.6275 - val_accuracy: 0.7752\n",
            "Epoch 27/100\n",
            "292/292 [==============================] - 151s 517ms/step - loss: 0.5477 - accuracy: 0.8027 - val_loss: 0.6061 - val_accuracy: 0.7934\n",
            "Epoch 28/100\n",
            "292/292 [==============================] - 135s 461ms/step - loss: 0.5544 - accuracy: 0.8059 - val_loss: 0.5977 - val_accuracy: 0.7797\n",
            "Epoch 29/100\n",
            "292/292 [==============================] - 150s 515ms/step - loss: 0.5610 - accuracy: 0.7967 - val_loss: 0.6350 - val_accuracy: 0.7752\n",
            "Epoch 30/100\n",
            "292/292 [==============================] - 136s 465ms/step - loss: 0.5271 - accuracy: 0.8127 - val_loss: 0.6257 - val_accuracy: 0.7828\n",
            "Epoch 31/100\n",
            "292/292 [==============================] - 149s 511ms/step - loss: 0.5431 - accuracy: 0.8010 - val_loss: 0.6239 - val_accuracy: 0.7965\n",
            "Epoch 32/100\n",
            "292/292 [==============================] - 136s 466ms/step - loss: 0.5382 - accuracy: 0.8066 - val_loss: 0.6007 - val_accuracy: 0.7950\n",
            "Epoch 33/100\n",
            "292/292 [==============================] - 148s 509ms/step - loss: 0.5534 - accuracy: 0.8002 - val_loss: 0.6074 - val_accuracy: 0.7858\n",
            "Epoch 34/100\n",
            "292/292 [==============================] - 135s 464ms/step - loss: 0.5278 - accuracy: 0.8116 - val_loss: 0.6581 - val_accuracy: 0.7713\n",
            "Epoch 35/100\n",
            "292/292 [==============================] - 151s 517ms/step - loss: 0.5247 - accuracy: 0.8091 - val_loss: 0.6170 - val_accuracy: 0.7896\n",
            "Epoch 36/100\n",
            "292/292 [==============================] - 137s 469ms/step - loss: 0.4900 - accuracy: 0.8281 - val_loss: 0.6138 - val_accuracy: 0.7919\n",
            "Epoch 37/100\n",
            "292/292 [==============================] - 149s 511ms/step - loss: 0.5232 - accuracy: 0.8136 - val_loss: 0.5915 - val_accuracy: 0.7934\n",
            "Epoch 38/100\n",
            "292/292 [==============================] - 137s 468ms/step - loss: 0.5109 - accuracy: 0.8183 - val_loss: 0.6208 - val_accuracy: 0.7919\n",
            "Epoch 39/100\n",
            "292/292 [==============================] - 146s 502ms/step - loss: 0.5155 - accuracy: 0.8201 - val_loss: 0.5970 - val_accuracy: 0.7942\n",
            "Epoch 40/100\n",
            "292/292 [==============================] - 138s 472ms/step - loss: 0.4896 - accuracy: 0.8324 - val_loss: 0.6009 - val_accuracy: 0.7957\n",
            "Epoch 41/100\n",
            "292/292 [==============================] - 148s 509ms/step - loss: 0.5034 - accuracy: 0.8235 - val_loss: 0.6294 - val_accuracy: 0.7828\n",
            "Epoch 42/100\n",
            "292/292 [==============================] - 139s 475ms/step - loss: 0.4992 - accuracy: 0.8191 - val_loss: 0.6393 - val_accuracy: 0.7881\n",
            "Epoch 43/100\n",
            "292/292 [==============================] - 146s 501ms/step - loss: 0.5032 - accuracy: 0.8243 - val_loss: 0.6180 - val_accuracy: 0.7919\n",
            "Epoch 44/100\n",
            "292/292 [==============================] - 136s 465ms/step - loss: 0.4873 - accuracy: 0.8300 - val_loss: 0.6671 - val_accuracy: 0.7652\n",
            "Epoch 45/100\n",
            "292/292 [==============================] - 145s 499ms/step - loss: 0.4947 - accuracy: 0.8219 - val_loss: 0.6447 - val_accuracy: 0.7767\n",
            "Epoch 46/100\n",
            "292/292 [==============================] - 136s 466ms/step - loss: 0.4688 - accuracy: 0.8329 - val_loss: 0.6513 - val_accuracy: 0.7782\n",
            "Epoch 47/100\n",
            "292/292 [==============================] - 146s 501ms/step - loss: 0.4913 - accuracy: 0.8234 - val_loss: 0.6698 - val_accuracy: 0.7797\n",
            "Epoch 48/100\n",
            "292/292 [==============================] - 137s 469ms/step - loss: 0.4723 - accuracy: 0.8293 - val_loss: 0.6530 - val_accuracy: 0.7736\n",
            "Epoch 49/100\n",
            "292/292 [==============================] - 145s 497ms/step - loss: 0.4875 - accuracy: 0.8271 - val_loss: 0.6397 - val_accuracy: 0.7713\n",
            "Epoch 50/100\n",
            "292/292 [==============================] - 140s 480ms/step - loss: 0.4572 - accuracy: 0.8423 - val_loss: 0.6804 - val_accuracy: 0.7698\n",
            "Epoch 51/100\n",
            "292/292 [==============================] - 145s 496ms/step - loss: 0.4633 - accuracy: 0.8376 - val_loss: 0.6520 - val_accuracy: 0.7843\n",
            "Epoch 52/100\n",
            "292/292 [==============================] - 137s 470ms/step - loss: 0.4668 - accuracy: 0.8327 - val_loss: 0.6541 - val_accuracy: 0.7767\n",
            "Epoch 53/100\n",
            "292/292 [==============================] - 145s 497ms/step - loss: 0.4613 - accuracy: 0.8384 - val_loss: 0.6624 - val_accuracy: 0.7767\n",
            "Epoch 54/100\n",
            "292/292 [==============================] - 142s 486ms/step - loss: 0.4586 - accuracy: 0.8392 - val_loss: 0.6787 - val_accuracy: 0.7675\n",
            "Epoch 55/100\n",
            "292/292 [==============================] - 144s 494ms/step - loss: 0.4349 - accuracy: 0.8522 - val_loss: 0.6848 - val_accuracy: 0.7645\n",
            "Epoch 56/100\n",
            "292/292 [==============================] - 140s 480ms/step - loss: 0.4489 - accuracy: 0.8432 - val_loss: 0.7240 - val_accuracy: 0.7591\n",
            "Epoch 57/100\n",
            "292/292 [==============================] - 144s 493ms/step - loss: 0.4697 - accuracy: 0.8331 - val_loss: 0.6684 - val_accuracy: 0.7713\n",
            "Epoch 58/100\n",
            "292/292 [==============================] - 139s 477ms/step - loss: 0.4514 - accuracy: 0.8457 - val_loss: 0.6701 - val_accuracy: 0.7744\n",
            "Epoch 59/100\n",
            "292/292 [==============================] - 143s 491ms/step - loss: 0.4500 - accuracy: 0.8419 - val_loss: 0.6847 - val_accuracy: 0.7698\n",
            "Epoch 60/100\n",
            "292/292 [==============================] - 141s 484ms/step - loss: 0.4609 - accuracy: 0.8435 - val_loss: 0.6835 - val_accuracy: 0.7774\n",
            "Epoch 61/100\n",
            "292/292 [==============================] - 142s 489ms/step - loss: 0.4417 - accuracy: 0.8467 - val_loss: 0.6834 - val_accuracy: 0.7683\n",
            "Epoch 62/100\n",
            "292/292 [==============================] - 141s 482ms/step - loss: 0.4348 - accuracy: 0.8505 - val_loss: 0.6785 - val_accuracy: 0.7698\n",
            "Epoch 63/100\n",
            "292/292 [==============================] - 144s 493ms/step - loss: 0.4292 - accuracy: 0.8504 - val_loss: 0.6609 - val_accuracy: 0.7729\n",
            "Epoch 64/100\n",
            "292/292 [==============================] - 143s 491ms/step - loss: 0.4507 - accuracy: 0.8465 - val_loss: 0.6808 - val_accuracy: 0.7599\n",
            "Epoch 65/100\n",
            "292/292 [==============================] - 141s 484ms/step - loss: 0.4385 - accuracy: 0.8484 - val_loss: 0.6720 - val_accuracy: 0.7881\n",
            "Epoch 66/100\n",
            "292/292 [==============================] - 142s 487ms/step - loss: 0.4192 - accuracy: 0.8496 - val_loss: 0.7108 - val_accuracy: 0.7683\n",
            "Epoch 67/100\n",
            "292/292 [==============================] - 141s 483ms/step - loss: 0.4146 - accuracy: 0.8535 - val_loss: 0.6951 - val_accuracy: 0.7744\n",
            "Epoch 68/100\n",
            "292/292 [==============================] - 140s 480ms/step - loss: 0.4245 - accuracy: 0.8507 - val_loss: 0.6862 - val_accuracy: 0.7851\n",
            "Epoch 69/100\n",
            "292/292 [==============================] - 141s 482ms/step - loss: 0.4285 - accuracy: 0.8468 - val_loss: 0.6911 - val_accuracy: 0.7767\n",
            "Epoch 70/100\n",
            "292/292 [==============================] - 144s 493ms/step - loss: 0.4155 - accuracy: 0.8538 - val_loss: 0.7447 - val_accuracy: 0.7721\n",
            "Epoch 71/100\n",
            "292/292 [==============================] - 141s 483ms/step - loss: 0.4117 - accuracy: 0.8540 - val_loss: 0.6903 - val_accuracy: 0.7866\n",
            "Epoch 72/100\n",
            "292/292 [==============================] - 144s 494ms/step - loss: 0.4046 - accuracy: 0.8566 - val_loss: 0.7327 - val_accuracy: 0.7767\n",
            "Epoch 73/100\n",
            "292/292 [==============================] - 143s 491ms/step - loss: 0.3959 - accuracy: 0.8557 - val_loss: 0.7112 - val_accuracy: 0.7835\n",
            "Epoch 74/100\n",
            "292/292 [==============================] - 144s 495ms/step - loss: 0.4181 - accuracy: 0.8534 - val_loss: 0.7245 - val_accuracy: 0.7706\n",
            "Epoch 75/100\n",
            "292/292 [==============================] - 141s 483ms/step - loss: 0.4042 - accuracy: 0.8582 - val_loss: 0.7260 - val_accuracy: 0.7691\n",
            "Epoch 76/100\n",
            "292/292 [==============================] - 140s 481ms/step - loss: 0.3977 - accuracy: 0.8579 - val_loss: 0.6970 - val_accuracy: 0.7622\n",
            "Epoch 77/100\n",
            "292/292 [==============================] - 141s 484ms/step - loss: 0.3954 - accuracy: 0.8609 - val_loss: 0.7259 - val_accuracy: 0.7790\n",
            "Epoch 78/100\n",
            "292/292 [==============================] - 141s 483ms/step - loss: 0.4024 - accuracy: 0.8599 - val_loss: 0.7313 - val_accuracy: 0.7652\n",
            "Epoch 79/100\n",
            "292/292 [==============================] - 141s 483ms/step - loss: 0.4114 - accuracy: 0.8545 - val_loss: 0.7284 - val_accuracy: 0.7637\n",
            "Epoch 80/100\n",
            "292/292 [==============================] - 143s 488ms/step - loss: 0.3935 - accuracy: 0.8603 - val_loss: 0.7524 - val_accuracy: 0.7790\n",
            "Epoch 81/100\n",
            "292/292 [==============================] - 144s 493ms/step - loss: 0.4037 - accuracy: 0.8604 - val_loss: 0.6999 - val_accuracy: 0.7660\n",
            "Epoch 82/100\n",
            "292/292 [==============================] - 145s 496ms/step - loss: 0.3821 - accuracy: 0.8697 - val_loss: 0.7740 - val_accuracy: 0.7744\n",
            "Epoch 83/100\n",
            "292/292 [==============================] - 142s 486ms/step - loss: 0.4109 - accuracy: 0.8537 - val_loss: 0.7411 - val_accuracy: 0.7614\n",
            "Epoch 84/100\n",
            "292/292 [==============================] - 144s 492ms/step - loss: 0.3930 - accuracy: 0.8651 - val_loss: 0.7549 - val_accuracy: 0.7706\n",
            "Epoch 85/100\n",
            "292/292 [==============================] - 142s 487ms/step - loss: 0.3820 - accuracy: 0.8686 - val_loss: 0.8074 - val_accuracy: 0.7637\n",
            "Epoch 86/100\n",
            "292/292 [==============================] - 143s 489ms/step - loss: 0.3731 - accuracy: 0.8710 - val_loss: 0.7694 - val_accuracy: 0.7698\n",
            "Epoch 87/100\n",
            "292/292 [==============================] - 143s 488ms/step - loss: 0.3890 - accuracy: 0.8655 - val_loss: 0.7128 - val_accuracy: 0.7691\n",
            "Epoch 88/100\n",
            "292/292 [==============================] - 145s 496ms/step - loss: 0.3660 - accuracy: 0.8692 - val_loss: 0.7939 - val_accuracy: 0.7721\n",
            "Epoch 89/100\n",
            "292/292 [==============================] - 141s 483ms/step - loss: 0.3941 - accuracy: 0.8631 - val_loss: 0.7294 - val_accuracy: 0.7744\n",
            "Epoch 90/100\n",
            "292/292 [==============================] - 141s 482ms/step - loss: 0.3605 - accuracy: 0.8775 - val_loss: 0.7930 - val_accuracy: 0.7736\n",
            "Epoch 91/100\n",
            "292/292 [==============================] - 142s 487ms/step - loss: 0.3767 - accuracy: 0.8654 - val_loss: 0.8543 - val_accuracy: 0.7660\n",
            "Epoch 92/100\n",
            "292/292 [==============================] - 146s 499ms/step - loss: 0.3741 - accuracy: 0.8667 - val_loss: 0.7859 - val_accuracy: 0.7668\n",
            "Epoch 93/100\n",
            "292/292 [==============================] - 143s 490ms/step - loss: 0.3684 - accuracy: 0.8684 - val_loss: 0.7569 - val_accuracy: 0.7645\n",
            "Epoch 94/100\n",
            "292/292 [==============================] - 156s 533ms/step - loss: 0.3768 - accuracy: 0.8691 - val_loss: 0.8512 - val_accuracy: 0.7713\n",
            "Epoch 95/100\n",
            "292/292 [==============================] - 141s 481ms/step - loss: 0.3575 - accuracy: 0.8757 - val_loss: 0.7459 - val_accuracy: 0.7721\n",
            "Epoch 96/100\n",
            "292/292 [==============================] - 140s 480ms/step - loss: 0.3631 - accuracy: 0.8740 - val_loss: 0.7826 - val_accuracy: 0.7599\n",
            "Epoch 97/100\n",
            "292/292 [==============================] - 142s 488ms/step - loss: 0.3479 - accuracy: 0.8804 - val_loss: 0.8171 - val_accuracy: 0.7652\n",
            "Epoch 98/100\n",
            "292/292 [==============================] - 144s 493ms/step - loss: 0.3368 - accuracy: 0.8798 - val_loss: 0.8262 - val_accuracy: 0.7607\n",
            "Epoch 99/100\n",
            "292/292 [==============================] - 144s 492ms/step - loss: 0.3633 - accuracy: 0.8659 - val_loss: 0.8268 - val_accuracy: 0.7698\n",
            "Epoch 100/100\n",
            "292/292 [==============================] - 145s 497ms/step - loss: 0.3492 - accuracy: 0.8789 - val_loss: 0.7896 - val_accuracy: 0.7721\n"
          ],
          "name": "stdout"
        }
      ]
    },
    {
      "cell_type": "code",
      "metadata": {
        "id": "pwI3ZIykp0Hy",
        "colab": {
          "base_uri": "https://localhost:8080/"
        },
        "outputId": "752d6b68-cb6b-41a3-a7f3-2b6a33afc96e"
      },
      "source": [
        "#Plot\n",
        "\n",
        "import matplotlib.pyplot as plt\n",
        "\n",
        "N = len(H.history['loss'])\n",
        "plt.style.use(\"ggplot\")\n",
        "plt.figure()\n",
        "plt.plot(np.arange(0, N), H.history[\"accuracy\"], label=\"Train Accuracy\")\n",
        "plt.plot(np.arange(0, N), H.history[\"val_accuracy\"], label=\"Validation Accuracy\")\n",
        "plt.plot(np.arange(0, N), H.history[\"loss\"], label=\"Train Loss\")\n",
        "plt.plot(np.arange(0, N), H.history[\"val_loss\"], label=\"Validation Loss\")\n",
        "plt.title(\"Loss and Accuracy Plot\")\n",
        "plt.xlabel(\"Epoch\")\n",
        "plt.legend(bbox_to_anchor=(1.05, 1.0), loc='upper left')\n",
        "plt.savefig(\"performance_plot.png\")"
      ],
      "execution_count": null,
      "outputs": [
        {
          "output_type": "display_data",
          "data": {
            "image/png": "[encoded data removed]",
            "text/plain": [
              "<Figure size 432x288 with 1 Axes>"
            ]
          },
          "metadata": {
            "tags": []
          }
        }
      ]
    }
  ]
}