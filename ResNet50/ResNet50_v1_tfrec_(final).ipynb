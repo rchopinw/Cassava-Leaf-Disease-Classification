{
  "nbformat": 4,
  "nbformat_minor": 0,
  "metadata": {
    "colab": {
      "name": "ResNet50_v1_tfrec (final).ipynb",
      "provenance": [],
      "collapsed_sections": [],
      "machine_shape": "hm"
    },
    "kernelspec": {
      "name": "python3",
      "display_name": "Python 3"
    },
    "accelerator": "GPU"
  },
  "cells": [
    {
      "cell_type": "code",
      "metadata": {
        "id": "DGvYY2zkiOVN"
      },
      "source": [
        "import os\n",
        "\n",
        "os.environ['KAGGLE_USERNAME'] = \"daxinniu122\" # username from the json file\n",
        "os.environ['KAGGLE_KEY'] = \"2ed6804df3e3e2e0d5053c862fa7020a\" # key from the json file"
      ],
      "execution_count": null,
      "outputs": []
    },
    {
      "cell_type": "code",
      "metadata": {
        "colab": {
          "base_uri": "https://localhost:8080/"
        },
        "id": "kb8S6JIlijb6",
        "outputId": "852b86bd-e8dd-4c00-90b3-ba492c5872c5"
      },
      "source": [
        "from google.colab import drive\n",
        "drive.mount('/content/drive', force_remount=True)"
      ],
      "execution_count": null,
      "outputs": [
        {
          "output_type": "stream",
          "text": [
            "Mounted at /content/drive\n"
          ],
          "name": "stdout"
        }
      ]
    },
    {
      "cell_type": "code",
      "metadata": {
        "colab": {
          "base_uri": "https://localhost:8080/"
        },
        "id": "snpx7a8_jPLO",
        "outputId": "b5ec3351-7339-4be5-e459-33412fb078c5"
      },
      "source": [
        "# Library import\n",
        "import pandas as pd\n",
        "import os\n",
        "import re\n",
        "import tensorflow as tf\n",
        "import pandas as pd\n",
        "import os\n",
        "import pickle\n",
        "import re\n",
        "import cv2\n",
        "import albumentations as alb\n",
        "import numpy as np\n",
        "from tensorflow.keras.callbacks import EarlyStopping, TensorBoard, ReduceLROnPlateau\n",
        "from tensorflow.keras.optimizers import Adam\n",
        "from tensorflow.keras.optimizers.schedules import ExponentialDecay\n",
        "from tensorflow.keras.applications import VGG19, ResNet152V2, InceptionResNetV2\n",
        "from tensorflow.keras.layers import AveragePooling2D, Activation, GlobalAveragePooling2D\n",
        "from tensorflow.keras.regularizers import l1_l2\n",
        "from tensorflow.keras.layers import Dropout\n",
        "from tensorflow.keras.applications.resnet50 import ResNet50\n",
        "from tensorflow.keras.layers import Flatten\n",
        "from tensorflow.keras.layers import Dense\n",
        "from tensorflow.keras.layers import BatchNormalization\n",
        "from tensorflow.keras.models import Model\n",
        "from tensorflow.keras.optimizers import Adam\n",
        "from tensorflow.keras.losses import CategoricalCrossentropy\n",
        "from functools import partial\n",
        "from sklearn.model_selection import train_test_split\n",
        "import matplotlib.pyplot as plt\n",
        "from tensorflow.keras.models import Sequential, Model\n",
        "from tensorflow.keras.callbacks import ModelCheckpoint, EarlyStopping, ReduceLROnPlateau\n",
        "from tensorflow.keras.layers import Dense, Dropout, Flatten, GlobalAveragePooling2D, BatchNormalization, Activation\n",
        "from tensorflow.keras.applications import EfficientNetB3, EfficientNetB4\n",
        "from tensorflow.keras.losses import CategoricalCrossentropy\n",
        "from tensorflow.keras.preprocessing.image import ImageDataGenerator\n",
        "from sklearn.model_selection import train_test_split\n",
        "from tensorflow import keras\n",
        "from tensorflow.keras.callbacks import EarlyStopping, TensorBoard\n",
        "from tensorflow.keras.optimizers import Adam\n",
        "from tensorflow.keras.optimizers.schedules import ExponentialDecay\n",
        "from tensorflow.keras.applications import VGG16\n",
        "from functools import partial\n",
        "from sklearn.model_selection import train_test_split\n",
        "\n",
        "# Constant Variables:\n",
        "_auto_tune = tf.data.experimental.AUTOTUNE\n",
        "_batch_size = 16\n",
        "\n",
        "_image_width_original = 512\n",
        "_image_height_original = 512\n",
        "_image_size = [_image_width_original, _image_height_original]\n",
        "\n",
        "_image_resize_width = 256\n",
        "_image_resize_height = 256\n",
        "_image_resize = [_image_resize_width, _image_resize_height]\n",
        "print('Model input shape {} x {}.'.format(_image_resize_width, _image_resize_height))\n",
        "\n",
        "_channels = 3\n",
        "_n_class = 5\n",
        "_n_repeat = 4\n",
        "_img_norm = 255.0\n",
        "\n",
        "_classes = [str(x) for x in range(_n_class)]\n",
        "_major_label = 3\n",
        "_classes_names = ['Cassava Bacterial Blight',\n",
        "                  'Cassava Brown Streak Disease',\n",
        "                  'Cassava Green Mottle',\n",
        "                  'Cassava Mosaic Disease',\n",
        "                  'Healthy']\n",
        "_train_file = '/content/drive/MyDrive/cassava-leaf-disease-classification/'\n",
        "_train_recs = list(filter(lambda x: '.tfrec' in x, os.listdir(_train_file)))\n",
        "_epochs = 20\n",
        "_valid_size = 0.1\n",
        "_train_df = pd.read_csv('/content/drive/MyDrive/cassava-leaf-disease-classification/train.csv', encoding='utf_8_sig',\n",
        "                        engine='python')\n",
        "_file_label_map = dict(zip(_train_df.image_id.tolist(), _train_df.label.astype(int).tolist()))\n",
        "_random_corp_size = [_image_resize_width, _image_resize_height, _channels]\n",
        "\n",
        "\n",
        "# Decoding single image:\n",
        "def decode_img(img,\n",
        "               n_channels: int = _channels,\n",
        "               img_size: list = None,\n",
        "               img_norm: float = _img_norm):\n",
        "    if img_size is None:\n",
        "        img_size = _image_size\n",
        "    img = tf.image.decode_jpeg(img, channels=n_channels)\n",
        "    img = tf.reshape(img, [*img_size, n_channels])\n",
        "    # img = tf.cast(img, tf.float32) / img_norm\n",
        "    return img\n",
        "\n",
        "\n",
        "# Parsing the files\n",
        "def parse_img(x,\n",
        "              n_class: int = _n_class):\n",
        "    feature_description = {'image': tf.io.FixedLenFeature([], tf.string, default_value=''),\n",
        "                           'target': tf.io.FixedLenFeature([], tf.int64, default_value=-1)}\n",
        "    parsed_features = tf.io.parse_single_example(x, feature_description)\n",
        "    img = decode_img(parsed_features['image'])\n",
        "    label = tf.one_hot(parsed_features['target'], depth=n_class)\n",
        "    return img, label\n",
        "\n",
        "\n",
        "# Load data\n",
        "def load_img(files: list,\n",
        "             ordered=False):\n",
        "    df = tf.data.TFRecordDataset(files)\n",
        "    ignore_order = tf.data.Options()\n",
        "    if not ordered:\n",
        "        ignore_order.experimental_deterministic = False\n",
        "    df = df.with_options(ignore_order)\n",
        "    df = df.map(parse_img)\n",
        "    return df\n",
        "\n",
        "\n",
        "# Train-validation split\n",
        "_train_fn, _valid_fn = \\\n",
        "    train_test_split(tf.io.gfile.glob(_train_file + 'ld_train*.tfrec'),\n",
        "                     test_size=_valid_size,\n",
        "                     random_state=5,\n",
        "                     shuffle=True)"
      ],
      "execution_count": null,
      "outputs": [
        {
          "output_type": "stream",
          "text": [
            "Model input shape 256 x 256.\n"
          ],
          "name": "stdout"
        }
      ]
    },
    {
      "cell_type": "code",
      "metadata": {
        "colab": {
          "base_uri": "https://localhost:8080/"
        },
        "id": "IXWaOKwkubHR",
        "outputId": "3906702b-18ca-4a4d-ffa4-705630ccb26f"
      },
      "source": [
        "\n",
        "# Function for getting the training data set\n",
        "def get_train_data(train_fn: list = _train_fn,\n",
        "                   batch_size: int = _batch_size):\n",
        "    df = load_img(train_fn)\n",
        "    df = df.repeat().shuffle(2048).batch(batch_size).prefetch(_auto_tune)\n",
        "    return df\n",
        "\n",
        "\n",
        "# Function for getting the validation data set\n",
        "def get_valid_data(valid_fn: list = _valid_fn,\n",
        "                   batch_size: int = _batch_size):\n",
        "    df = load_img(valid_fn)\n",
        "    df = df.batch(batch_size).cache().prefetch(_auto_tune)\n",
        "    return df\n",
        "\n",
        "\n",
        "# Reporting the size of training, validation and testing data\n",
        "def report_data_size(train_f=_train_fn,\n",
        "                     valid_f=_valid_fn):\n",
        "    def count_file(x):\n",
        "        return sum([int(re.compile(r\"-([0-9]*)\\.\").search(i).group(1)) for i in x])\n",
        "\n",
        "    n_train, n_valid= count_file(train_f), count_file(valid_f)\n",
        "    print('Train Images: {} | Validation Images: {}'.format(n_train, n_valid))\n",
        "    return n_train, n_valid\n",
        "\n",
        "\n",
        "# Check the size of the data\n",
        "_n_train, _n_valid = report_data_size()\n",
        "\n",
        "# Fetching training, validation and testing data\n",
        "train_data = get_train_data()\n",
        "valid_data = get_valid_data()\n",
        "\n",
        "print(\"Train Data Size {} | Validation Data Size {}\".format(train_data._flat_shapes, valid_data._flat_shapes))"
      ],
      "execution_count": null,
      "outputs": [
        {
          "output_type": "stream",
          "text": [
            "Train Images: 18721 | Validation Images: 2676\n",
            "Train Data Size [TensorShape([None, 512, 512, 3]), TensorShape([None, 5])] | Validation Data Size [TensorShape([None, 512, 512, 3]), TensorShape([None, 5])]\n"
          ],
          "name": "stdout"
        }
      ]
    },
    {
      "cell_type": "code",
      "metadata": {
        "id": "xXZrktqizGth"
      },
      "source": [
        "input_module = tf.keras.layers.Input(shape=(*_image_size, _channels))\n",
        "flip_module = tf.keras.layers.experimental.preprocessing.RandomFlip(mode='horizontal_and_vertical')\n",
        "roration_module = tf.keras.layers.experimental.preprocessing.RandomRotation(factor=(-0.4, 0.4))\n",
        "crop_module = tf.keras.layers.experimental.preprocessing.RandomCrop(height=_image_resize_height, width=_image_resize_width)\n",
        "rand_height_module = tf.keras.layers.experimental.preprocessing.RandomHeight(factor=0.25)\n",
        "rand_width_module = tf.keras.layers.experimental.preprocessing.RandomWidth(factor=0.25)\n",
        "contrast_module = tf.keras.layers.experimental.preprocessing.RandomContrast(factor=0.3)\n",
        "zoom_module = tf.keras.layers.experimental.preprocessing.RandomZoom(0.5, 0.3)\n",
        "rescale_module = tf.keras.layers.experimental.preprocessing.Rescaling(scale=1/255)"
      ],
      "execution_count": null,
      "outputs": []
    },
    {
      "cell_type": "code",
      "metadata": {
        "id": "82OCc4VH000t"
      },
      "source": [
        "def load_model():\n",
        "    base = ResNet50(\n",
        "        weights='imagenet',\n",
        "        include_top=False,\n",
        "        input_shape=(None, None, 3))\n",
        "\n",
        "    x = base.output\n",
        "    x = GlobalAveragePooling2D()(x)\n",
        "    x = Dense(5,\n",
        "              activation='softmax')(x)\n",
        "    m = Model(inputs=base.input, outputs=x)\n",
        "    return m"
      ],
      "execution_count": null,
      "outputs": []
    },
    {
      "cell_type": "code",
      "metadata": {
        "id": "m4-7Cfmh4gG_"
      },
      "source": [
        "_opt = tf.keras.optimizers.Adam(lr=1e-05)\n",
        "_loss = CategoricalCrossentropy(label_smoothing=0.05)\n",
        "_epochs = 30\n",
        "_finetune_epochs = 10\n",
        "\n",
        "model_ver_4 = load_model()"
      ],
      "execution_count": null,
      "outputs": []
    },
    {
      "cell_type": "code",
      "metadata": {
        "id": "8Lg9NMXF5KiF"
      },
      "source": [
        "model = tf.keras.Sequential([input_module, \n",
        "                             flip_module,\n",
        "                             roration_module,\n",
        "                             crop_module,\n",
        "                             rand_height_module,\n",
        "                             rand_width_module,\n",
        "                             contrast_module,\n",
        "                             zoom_module,\n",
        "                             model_ver_4])"
      ],
      "execution_count": null,
      "outputs": []
    },
    {
      "cell_type": "code",
      "metadata": {
        "id": "ObeC4aC86uad"
      },
      "source": [
        "model.compile(\n",
        "        optimizer=_opt,\n",
        "        loss=_loss,\n",
        "        metrics=['categorical_accuracy']\n",
        "    )"
      ],
      "execution_count": null,
      "outputs": []
    },
    {
      "cell_type": "code",
      "metadata": {
        "colab": {
          "base_uri": "https://localhost:8080/"
        },
        "id": "WkfI0sZV5bYA",
        "outputId": "28c74afd-57fa-40c4-fe42-2b0b8e14ffde"
      },
      "source": [
        "model.summary()"
      ],
      "execution_count": null,
      "outputs": [
        {
          "output_type": "stream",
          "text": [
            "Model: \"sequential\"\n",
            "_________________________________________________________________\n",
            "Layer (type)                 Output Shape              Param #   \n",
            "=================================================================\n",
            "random_flip (RandomFlip)     (None, 512, 512, 3)       0         \n",
            "_________________________________________________________________\n",
            "random_rotation (RandomRotat (None, 512, 512, 3)       0         \n",
            "_________________________________________________________________\n",
            "random_crop (RandomCrop)     (None, 336, 336, 3)       0         \n",
            "_________________________________________________________________\n",
            "random_height (RandomHeight) (None, None, 336, 3)      0         \n",
            "_________________________________________________________________\n",
            "random_width (RandomWidth)   (None, None, None, 3)     0         \n",
            "_________________________________________________________________\n",
            "random_contrast (RandomContr (None, None, None, 3)     0         \n",
            "_________________________________________________________________\n",
            "random_zoom (RandomZoom)     (None, None, None, 3)     0         \n",
            "_________________________________________________________________\n",
            "model (Functional)           (None, 5)                 58341893  \n",
            "=================================================================\n",
            "Total params: 58,341,893\n",
            "Trainable params: 58,198,149\n",
            "Non-trainable params: 143,744\n",
            "_________________________________________________________________\n"
          ],
          "name": "stdout"
        }
      ]
    },
    {
      "cell_type": "code",
      "metadata": {
        "colab": {
          "base_uri": "https://localhost:8080/"
        },
        "id": "SsA1ysKT5fV2",
        "outputId": "ed593281-41dd-4359-8bc4-3355183e34b7"
      },
      "source": [
        "_es = EarlyStopping(monitor='val_loss',\n",
        "                    mode='min',\n",
        "                    patience=10)\n",
        "_r = ReduceLROnPlateau(monitor='val_loss',\n",
        "                       factor=0.8,\n",
        "                       patience=2,\n",
        "                       verbose=1,\n",
        "                       mode='auto',\n",
        "                       epsilon=0.0001,\n",
        "                       cooldown=5,\n",
        "                       min_lr=0.00001)\n",
        "_callback = [_es, _r]\n",
        "\n",
        "history = model.fit(train_data, validation_data=valid_data, epochs=_epochs, callbacks=_callback, steps_per_epoch=_n_train//_batch_size)\n",
        "\n",
        "model.save('/content/drive/MyDrive/cassava-leaf-disease-classification/ResNet152V2_ver_1.h5')\n",
        "\n",
        "with open('/content/drive/MyDrive/cassava-leaf-disease-classification/ResNet152V2_ver_1.pkl', 'wb') as f:\n",
        "    pickle.dump(history.history, f, pickle.HIGHEST_PROTOCOL)"
      ],
      "execution_count": null,
      "outputs": [
        {
          "output_type": "stream",
          "text": [
            "WARNING:tensorflow:`epsilon` argument is deprecated and will be removed, use `min_delta` instead.\n",
            "Epoch 1/30\n",
            "1170/1170 [==============================] - 527s 431ms/step - loss: 1.1367 - categorical_accuracy: 0.6025 - val_loss: 0.8761 - val_categorical_accuracy: 0.7134\n",
            "Epoch 2/30\n",
            "1170/1170 [==============================] - 310s 265ms/step - loss: 0.8779 - categorical_accuracy: 0.7163 - val_loss: 0.8297 - val_categorical_accuracy: 0.7425\n",
            "Epoch 3/30\n",
            "1170/1170 [==============================] - 272s 233ms/step - loss: 0.8001 - categorical_accuracy: 0.7521 - val_loss: 0.7520 - val_categorical_accuracy: 0.7791\n",
            "Epoch 4/30\n",
            "1170/1170 [==============================] - 257s 220ms/step - loss: 0.7546 - categorical_accuracy: 0.7724 - val_loss: 0.7283 - val_categorical_accuracy: 0.7870\n",
            "Epoch 5/30\n",
            "1170/1170 [==============================] - 256s 219ms/step - loss: 0.7288 - categorical_accuracy: 0.7841 - val_loss: 0.7466 - val_categorical_accuracy: 0.7709\n",
            "Epoch 6/30\n",
            "1170/1170 [==============================] - 250s 214ms/step - loss: 0.7102 - categorical_accuracy: 0.7955 - val_loss: 0.6835 - val_categorical_accuracy: 0.8008\n",
            "Epoch 7/30\n",
            "1170/1170 [==============================] - 249s 213ms/step - loss: 0.6942 - categorical_accuracy: 0.7987 - val_loss: 0.6771 - val_categorical_accuracy: 0.8046\n",
            "Epoch 8/30\n",
            "1170/1170 [==============================] - 248s 212ms/step - loss: 0.6871 - categorical_accuracy: 0.8022 - val_loss: 0.6501 - val_categorical_accuracy: 0.8109\n",
            "Epoch 9/30\n",
            "1170/1170 [==============================] - 245s 210ms/step - loss: 0.6764 - categorical_accuracy: 0.8079 - val_loss: 0.6504 - val_categorical_accuracy: 0.8150\n",
            "Epoch 10/30\n",
            "1170/1170 [==============================] - 247s 211ms/step - loss: 0.6610 - categorical_accuracy: 0.8135 - val_loss: 0.6339 - val_categorical_accuracy: 0.8277\n",
            "Epoch 11/30\n",
            "1170/1170 [==============================] - 245s 210ms/step - loss: 0.6550 - categorical_accuracy: 0.8185 - val_loss: 0.6507 - val_categorical_accuracy: 0.8195\n",
            "Epoch 12/30\n",
            "1170/1170 [==============================] - 242s 207ms/step - loss: 0.6496 - categorical_accuracy: 0.8178 - val_loss: 0.6302 - val_categorical_accuracy: 0.8247\n",
            "Epoch 13/30\n",
            "1170/1170 [==============================] - 243s 208ms/step - loss: 0.6409 - categorical_accuracy: 0.8221 - val_loss: 0.6424 - val_categorical_accuracy: 0.8225\n",
            "Epoch 14/30\n",
            "1170/1170 [==============================] - 241s 206ms/step - loss: 0.6464 - categorical_accuracy: 0.8198 - val_loss: 0.6396 - val_categorical_accuracy: 0.8251\n",
            "Epoch 15/30\n",
            "1170/1170 [==============================] - 241s 206ms/step - loss: 0.6291 - categorical_accuracy: 0.8299 - val_loss: 0.6413 - val_categorical_accuracy: 0.8236\n",
            "Epoch 16/30\n",
            "1170/1170 [==============================] - 241s 206ms/step - loss: 0.6262 - categorical_accuracy: 0.8268 - val_loss: 0.6142 - val_categorical_accuracy: 0.8464\n",
            "Epoch 17/30\n",
            "1170/1170 [==============================] - 242s 207ms/step - loss: 0.6166 - categorical_accuracy: 0.8349 - val_loss: 0.6280 - val_categorical_accuracy: 0.8315\n",
            "Epoch 18/30\n",
            "1170/1170 [==============================] - 237s 203ms/step - loss: 0.6171 - categorical_accuracy: 0.8317 - val_loss: 0.6048 - val_categorical_accuracy: 0.8438\n",
            "Epoch 19/30\n",
            "1170/1170 [==============================] - 240s 205ms/step - loss: 0.6028 - categorical_accuracy: 0.8408 - val_loss: 0.6258 - val_categorical_accuracy: 0.8311\n",
            "Epoch 20/30\n",
            "1170/1170 [==============================] - 238s 204ms/step - loss: 0.6007 - categorical_accuracy: 0.8395 - val_loss: 0.6118 - val_categorical_accuracy: 0.8389\n",
            "Epoch 21/30\n",
            "1170/1170 [==============================] - 236s 202ms/step - loss: 0.5967 - categorical_accuracy: 0.8404 - val_loss: 0.6147 - val_categorical_accuracy: 0.8423\n",
            "Epoch 22/30\n",
            "1170/1170 [==============================] - 239s 205ms/step - loss: 0.5961 - categorical_accuracy: 0.8416 - val_loss: 0.6082 - val_categorical_accuracy: 0.8389\n",
            "Epoch 23/30\n",
            "1170/1170 [==============================] - 238s 204ms/step - loss: 0.6022 - categorical_accuracy: 0.8414 - val_loss: 0.6042 - val_categorical_accuracy: 0.8416\n",
            "Epoch 24/30\n",
            "1170/1170 [==============================] - 238s 203ms/step - loss: 0.5850 - categorical_accuracy: 0.8482 - val_loss: 0.5979 - val_categorical_accuracy: 0.8475\n",
            "Epoch 25/30\n",
            "1170/1170 [==============================] - 237s 202ms/step - loss: 0.5919 - categorical_accuracy: 0.8427 - val_loss: 0.6015 - val_categorical_accuracy: 0.8501\n",
            "Epoch 26/30\n",
            "1170/1170 [==============================] - 237s 203ms/step - loss: 0.5874 - categorical_accuracy: 0.8458 - val_loss: 0.6573 - val_categorical_accuracy: 0.8143\n",
            "Epoch 27/30\n",
            "1170/1170 [==============================] - 238s 203ms/step - loss: 0.5817 - categorical_accuracy: 0.8489 - val_loss: 0.6028 - val_categorical_accuracy: 0.8457\n",
            "Epoch 28/30\n",
            "1170/1170 [==============================] - 237s 203ms/step - loss: 0.5807 - categorical_accuracy: 0.8485 - val_loss: 0.6164 - val_categorical_accuracy: 0.8464\n",
            "Epoch 29/30\n",
            "1170/1170 [==============================] - 235s 201ms/step - loss: 0.5697 - categorical_accuracy: 0.8565 - val_loss: 0.6284 - val_categorical_accuracy: 0.8386\n",
            "Epoch 30/30\n",
            "1170/1170 [==============================] - 233s 199ms/step - loss: 0.5755 - categorical_accuracy: 0.8542 - val_loss: 0.6222 - val_categorical_accuracy: 0.8408\n"
          ],
          "name": "stdout"
        }
      ]
    },
    {
      "cell_type": "code",
      "metadata": {
        "colab": {
          "base_uri": "https://localhost:8080/",
          "height": 279
        },
        "id": "U5bnLVBbg4yj",
        "outputId": "720806d4-03cd-4673-9d93-60dcdf6ca782"
      },
      "source": [
        "plt.plot(history.history['val_categorical_accuracy'], label='Validation Acc.')\n",
        "plt.plot(history.history['categorical_accuracy'], label='Train Acc.')\n",
        "plt.xlabel('Epochs')\n",
        "plt.ylabel('Accuracy')\n",
        "plt.legend()\n",
        "plt.show()"
      ],
      "execution_count": null,
      "outputs": [
        {
          "output_type": "display_data",
          "data": {
            "image/png": "[encoded data removed]",
            "text/plain": [
              "<Figure size 432x288 with 1 Axes>"
            ]
          },
          "metadata": {
            "tags": [],
            "needs_background": "light"
          }
        }
      ]
    },
    {
      "cell_type": "code",
      "metadata": {
        "colab": {
          "base_uri": "https://localhost:8080/",
          "height": 279
        },
        "id": "ZIgtJ3ighD6Y",
        "outputId": "2aabd69f-a0d0-4485-ad74-5ff33325431f"
      },
      "source": [
        "plt.plot(history.history['val_loss'], label='Validation loss')\n",
        "plt.plot(history.history['loss'], label='Train loss')\n",
        "plt.xlabel('Epochs')\n",
        "plt.ylabel('LOSS')\n",
        "plt.legend()\n",
        "plt.show()"
      ],
      "execution_count": null,
      "outputs": [
        {
          "output_type": "display_data",
          "data": {
            "image/png": "[encoded data removed]",
            "text/plain": [
              "<Figure size 432x288 with 1 Axes>"
            ]
          },
          "metadata": {
            "tags": [],
            "needs_background": "light"
          }
        }
      ]
    },
    {
      "cell_type": "code",
      "metadata": {
        "id": "b-w1uCv5hG9s"
      },
      "source": [
        "model.save('/content/drive/MyDrive/cassava-leaf-disease-classification/ResNet50_ver_1.h5')"
      ],
      "execution_count": null,
      "outputs": []
    },
    {
      "cell_type": "code",
      "metadata": {
        "id": "L2Tz3bta_PZ9"
      },
      "source": [
        "# Unfreezing the batch norm layers:\n",
        "for layer in model_ver_4.layers:\n",
        "    layer.trainable = True\n",
        "    if 'bn' in layer.name:\n",
        "        layer.trainable = False"
      ],
      "execution_count": null,
      "outputs": []
    },
    {
      "cell_type": "markdown",
      "metadata": {
        "id": "bNtrz3TDo8os"
      },
      "source": [
        "Overfitting observed"
      ]
    },
    {
      "cell_type": "code",
      "metadata": {
        "colab": {
          "base_uri": "https://localhost:8080/"
        },
        "id": "6KbdI8za_wp_",
        "outputId": "e1291040-329c-4470-b26b-64c63551deb9"
      },
      "source": [
        "finetune_history = model.fit(train_data, validation_data=valid_data, epochs=10, callbacks=_callback, steps_per_epoch=_n_train//_batch_size)"
      ],
      "execution_count": null,
      "outputs": [
        {
          "output_type": "stream",
          "text": [
            "Epoch 1/10\n",
            "585/585 [==============================] - 236s 393ms/step - loss: 0.1082 - accuracy: 0.8962 - val_loss: 0.1921 - val_accuracy: 0.8408\n",
            "Epoch 2/10\n",
            "585/585 [==============================] - 232s 396ms/step - loss: 0.1068 - accuracy: 0.8990 - val_loss: 0.2083 - val_accuracy: 0.8449\n",
            "Epoch 3/10\n",
            "585/585 [==============================] - 232s 396ms/step - loss: 0.1081 - accuracy: 0.8975 - val_loss: 0.2171 - val_accuracy: 0.8442\n",
            "Epoch 4/10\n",
            "585/585 [==============================] - 228s 390ms/step - loss: 0.1050 - accuracy: 0.9001 - val_loss: 0.2314 - val_accuracy: 0.8445\n",
            "Epoch 5/10\n",
            "585/585 [==============================] - 230s 393ms/step - loss: 0.1031 - accuracy: 0.9009 - val_loss: 0.2044 - val_accuracy: 0.8401\n",
            "Epoch 6/10\n",
            "585/585 [==============================] - 228s 390ms/step - loss: 0.1030 - accuracy: 0.9021 - val_loss: 0.2443 - val_accuracy: 0.8270\n",
            "Epoch 7/10\n",
            "585/585 [==============================] - 229s 391ms/step - loss: 0.1003 - accuracy: 0.9033 - val_loss: 0.2458 - val_accuracy: 0.8330\n",
            "Epoch 8/10\n",
            "585/585 [==============================] - 228s 391ms/step - loss: 0.0998 - accuracy: 0.9029 - val_loss: 0.2188 - val_accuracy: 0.8374\n",
            "Epoch 9/10\n",
            "585/585 [==============================] - 229s 391ms/step - loss: 0.0974 - accuracy: 0.9087 - val_loss: 0.2316 - val_accuracy: 0.8374\n",
            "Epoch 10/10\n",
            "585/585 [==============================] - 228s 389ms/step - loss: 0.0942 - accuracy: 0.9122 - val_loss: 0.2429 - val_accuracy: 0.8244\n"
          ],
          "name": "stdout"
        }
      ]
    }
  ]
}