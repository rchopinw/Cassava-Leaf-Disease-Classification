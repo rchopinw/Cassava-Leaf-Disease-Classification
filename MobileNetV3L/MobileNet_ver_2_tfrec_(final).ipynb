{
  "nbformat": 4,
  "nbformat_minor": 0,
  "metadata": {
    "colab": {
      "name": "MobileNet_ver_2_tfrec (final).ipynb",
      "provenance": [],
      "collapsed_sections": [],
      "machine_shape": "hm"
    },
    "kernelspec": {
      "name": "python3",
      "display_name": "Python 3"
    },
    "accelerator": "GPU"
  },
  "cells": [
    {
      "cell_type": "code",
      "metadata": {
        "id": "DGvYY2zkiOVN",
        "colab": {
          "base_uri": "https://localhost:8080/"
        },
        "outputId": "dab96379-3f35-466f-dfd8-ba8c0b022914"
      },
      "source": [
        "from google.colab import drive\n",
        "drive.mount('/content/drive', force_remount=True)"
      ],
      "execution_count": 1,
      "outputs": [
        {
          "output_type": "stream",
          "text": [
            "Mounted at /content/drive\n"
          ],
          "name": "stdout"
        }
      ]
    },
    {
      "cell_type": "code",
      "metadata": {
        "colab": {
          "base_uri": "https://localhost:8080/"
        },
        "id": "snpx7a8_jPLO",
        "outputId": "2a28735d-5ae7-4a57-845e-a632672e6e81"
      },
      "source": [
        "# Library import\n",
        "import pandas as pd\n",
        "import os\n",
        "import re\n",
        "import tensorflow as tf\n",
        "import pandas as pd\n",
        "import os\n",
        "import re\n",
        "import cv2\n",
        "import albumentations as alb\n",
        "import numpy as np\n",
        "from tensorflow.keras.callbacks import EarlyStopping, TensorBoard, ReduceLROnPlateau\n",
        "from tensorflow.keras.optimizers import Adam\n",
        "from tensorflow.keras.optimizers.schedules import ExponentialDecay\n",
        "from tensorflow.keras.applications import VGG19, ResNet152V2, InceptionResNetV2, MobileNetV3Large\n",
        "from tensorflow.keras.layers import AveragePooling2D, Activation, GlobalAveragePooling2D\n",
        "from tensorflow.keras.regularizers import l1_l2\n",
        "from tensorflow.keras.layers import Dropout\n",
        "from tensorflow.keras.layers import Flatten\n",
        "from tensorflow.keras.layers import Dense\n",
        "from tensorflow.keras.layers import BatchNormalization\n",
        "from tensorflow.keras.models import Model\n",
        "from tensorflow.keras.optimizers import Adam\n",
        "from tensorflow.keras.losses import CategoricalCrossentropy\n",
        "from functools import partial\n",
        "from sklearn.model_selection import train_test_split\n",
        "import matplotlib.pyplot as plt\n",
        "from tensorflow.keras.models import Sequential, Model\n",
        "from tensorflow.keras.callbacks import ModelCheckpoint, EarlyStopping, ReduceLROnPlateau\n",
        "from tensorflow.keras.layers import Dense, Dropout, Flatten, GlobalAveragePooling2D, BatchNormalization, Activation\n",
        "from tensorflow.keras.applications import EfficientNetB3, EfficientNetB4\n",
        "from tensorflow.keras.losses import CategoricalCrossentropy\n",
        "from tensorflow.keras.preprocessing.image import ImageDataGenerator\n",
        "from sklearn.model_selection import train_test_split\n",
        "from tensorflow import keras\n",
        "from tensorflow.keras.callbacks import EarlyStopping, TensorBoard\n",
        "from tensorflow.keras.optimizers import Adam\n",
        "from tensorflow.keras.optimizers.schedules import ExponentialDecay\n",
        "from tensorflow.keras.applications import VGG16\n",
        "from functools import partial\n",
        "from sklearn.model_selection import train_test_split\n",
        "\n",
        "# Constant Variables:\n",
        "_auto_tune = tf.data.experimental.AUTOTUNE\n",
        "_batch_size = 32\n",
        "\n",
        "_image_width_original = 512\n",
        "_image_height_original = 512\n",
        "_image_size = [_image_width_original, _image_height_original]\n",
        "\n",
        "_image_resize_width = 224\n",
        "_image_resize_height = 224\n",
        "_image_resize = [_image_resize_width, _image_resize_height]\n",
        "print('Model input shape {} x {}.'.format(_image_resize_width, _image_resize_height))\n",
        "\n",
        "_channels = 3\n",
        "_n_class = 5\n",
        "_n_repeat = 4\n",
        "_img_norm = 255.0\n",
        "\n",
        "_classes = [str(x) for x in range(_n_class)]\n",
        "_major_label = 3\n",
        "_classes_names = ['Cassava Bacterial Blight',\n",
        "                  'Cassava Brown Streak Disease',\n",
        "                  'Cassava Green Mottle',\n",
        "                  'Cassava Mosaic Disease',\n",
        "                  'Healthy']\n",
        "_train_file = '/content/drive/MyDrive/cassava-leaf-disease-classification/'\n",
        "_train_recs = list(filter(lambda x: '.tfrec' in x, os.listdir(_train_file)))\n",
        "_epochs = 20\n",
        "_valid_size = 0.1\n",
        "_train_df = pd.read_csv('/content/drive/MyDrive/cassava-leaf-disease-classification/train.csv', encoding='utf_8_sig',\n",
        "                        engine='python')\n",
        "_file_label_map = dict(zip(_train_df.image_id.tolist(), _train_df.label.astype(int).tolist()))\n",
        "_random_corp_size = [_image_resize_width, _image_resize_height, _channels]\n",
        "\n",
        "\n",
        "# Decoding single image:\n",
        "def decode_img(img,\n",
        "               n_channels: int = _channels,\n",
        "               img_size: list = None,\n",
        "               img_norm: float = _img_norm):\n",
        "    if img_size is None:\n",
        "        img_size = _image_size\n",
        "    img = tf.image.decode_jpeg(img, channels=n_channels)\n",
        "    img = tf.reshape(img, [*img_size, n_channels])\n",
        "    return img\n",
        "\n",
        "\n",
        "# Parsing the files\n",
        "def parse_img(x,\n",
        "              n_class: int = _n_class):\n",
        "    feature_description = {'image': tf.io.FixedLenFeature([], tf.string, default_value=''),\n",
        "                           'target': tf.io.FixedLenFeature([], tf.int64, default_value=-1)}\n",
        "    parsed_features = tf.io.parse_single_example(x, feature_description)\n",
        "    img = decode_img(parsed_features['image'])\n",
        "    label = tf.one_hot(parsed_features['target'], depth=n_class)\n",
        "    return img, label\n",
        "\n",
        "\n",
        "# Load data\n",
        "def load_img(files: list,\n",
        "             ordered=False):\n",
        "    df = tf.data.TFRecordDataset(files)\n",
        "    ignore_order = tf.data.Options()\n",
        "    if not ordered:\n",
        "        ignore_order.experimental_deterministic = False\n",
        "    df = df.with_options(ignore_order)\n",
        "    df = df.map(parse_img)\n",
        "    return df\n",
        "\n",
        "\n",
        "# Train-validation split\n",
        "_train_fn, _valid_fn = \\\n",
        "    train_test_split(tf.io.gfile.glob(_train_file + 'ld_train*.tfrec'),\n",
        "                     test_size=_valid_size,\n",
        "                     random_state=5,\n",
        "                     shuffle=True)"
      ],
      "execution_count": 2,
      "outputs": [
        {
          "output_type": "stream",
          "text": [
            "Model input shape 224 x 224.\n"
          ],
          "name": "stdout"
        }
      ]
    },
    {
      "cell_type": "code",
      "metadata": {
        "colab": {
          "base_uri": "https://localhost:8080/"
        },
        "id": "IXWaOKwkubHR",
        "outputId": "c6717677-48cd-420a-a40d-901dbb88007d"
      },
      "source": [
        "\n",
        "# Function for getting the training data set\n",
        "def get_train_data(train_fn: list = _train_fn,\n",
        "                   batch_size: int = _batch_size):\n",
        "    df = load_img(train_fn)\n",
        "    df = df.repeat().shuffle(2048).batch(batch_size).prefetch(_auto_tune)\n",
        "    return df\n",
        "\n",
        "\n",
        "# Function for getting the validation data set\n",
        "def get_valid_data(valid_fn: list = _valid_fn,\n",
        "                   batch_size: int = _batch_size):\n",
        "    df = load_img(valid_fn)\n",
        "    df = df.batch(batch_size).cache().prefetch(_auto_tune)\n",
        "    return df\n",
        "\n",
        "\n",
        "# Reporting the size of training, validation and testing data\n",
        "def report_data_size(train_f=_train_fn,\n",
        "                     valid_f=_valid_fn):\n",
        "    def count_file(x):\n",
        "        return sum([int(re.compile(r\"-([0-9]*)\\.\").search(i).group(1)) for i in x])\n",
        "\n",
        "    n_train, n_valid= count_file(train_f), count_file(valid_f)\n",
        "    print('Train Images: {} | Validation Images: {}'.format(n_train, n_valid))\n",
        "    return n_train, n_valid\n",
        "\n",
        "\n",
        "# Check the size of the data\n",
        "_n_train, _n_valid = report_data_size()\n",
        "\n",
        "# Fetching training, validation and testing data\n",
        "train_data = get_train_data()\n",
        "valid_data = get_valid_data()\n",
        "\n",
        "print(\"Train Data Size {} | Validation Data Size {}\".format(train_data._flat_shapes, valid_data._flat_shapes))"
      ],
      "execution_count": 3,
      "outputs": [
        {
          "output_type": "stream",
          "text": [
            "Train Images: 18721 | Validation Images: 2676\n",
            "Train Data Size [TensorShape([None, 512, 512, 3]), TensorShape([None, 5])] | Validation Data Size [TensorShape([None, 512, 512, 3]), TensorShape([None, 5])]\n"
          ],
          "name": "stdout"
        }
      ]
    },
    {
      "cell_type": "code",
      "metadata": {
        "id": "xXZrktqizGth"
      },
      "source": [
        "input_module = tf.keras.layers.Input(shape=(*_image_size, _channels))\n",
        "flip_module = tf.keras.layers.experimental.preprocessing.RandomFlip(mode='horizontal_and_vertical')\n",
        "roration_module = tf.keras.layers.experimental.preprocessing.RandomRotation(factor=(-0.4, 0.4))\n",
        "crop_module = tf.keras.layers.experimental.preprocessing.RandomCrop(height=_image_resize_height, width=_image_resize_width)\n",
        "rand_height_module = tf.keras.layers.experimental.preprocessing.RandomHeight(factor=0.25)\n",
        "rand_width_module = tf.keras.layers.experimental.preprocessing.RandomWidth(factor=0.25)\n",
        "contrast_module = tf.keras.layers.experimental.preprocessing.RandomContrast(factor=0.3)\n",
        "rescale_module = tf.keras.layers.experimental.preprocessing.Rescaling(scale=1/255)\n",
        "zoom_module = tf.keras.layers.experimental.preprocessing.RandomZoom(0.5, 0.3)"
      ],
      "execution_count": 4,
      "outputs": []
    },
    {
      "cell_type": "code",
      "metadata": {
        "id": "82OCc4VH000t"
      },
      "source": [
        "def load_model():\n",
        "    base = MobileNetV3Large(\n",
        "        weights='imagenet',\n",
        "        include_top=False,\n",
        "        input_shape=(_image_resize_height, _image_resize_width, 3)\n",
        "    )\n",
        "    x = base.output\n",
        "    x = GlobalAveragePooling2D()(x)\n",
        "    x = Dense(5,\n",
        "              activation='softmax')(x)\n",
        "    m = Model(inputs=base.input, outputs=x)\n",
        "    return m"
      ],
      "execution_count": 5,
      "outputs": []
    },
    {
      "cell_type": "code",
      "metadata": {
        "id": "m4-7Cfmh4gG_"
      },
      "source": [
        "_opt = tf.keras.optimizers.Adam(lr=1e-05)\n",
        "_loss = CategoricalCrossentropy(label_smoothing=0.05)\n",
        "_epochs = 20\n",
        "_finetune_epochs = 10\n",
        "\n",
        "model_ver_4 = load_model()"
      ],
      "execution_count": 14,
      "outputs": []
    },
    {
      "cell_type": "code",
      "metadata": {
        "id": "8Lg9NMXF5KiF"
      },
      "source": [
        "model = tf.keras.Sequential([input_module, \n",
        "                             flip_module,\n",
        "                             roration_module,\n",
        "                             crop_module,\n",
        "                             rand_height_module,\n",
        "                             rand_width_module,\n",
        "                             contrast_module,\n",
        "                             zoom_module,\n",
        "                             rescale_module,\n",
        "                             model_ver_4])"
      ],
      "execution_count": 15,
      "outputs": []
    },
    {
      "cell_type": "code",
      "metadata": {
        "id": "ObeC4aC86uad"
      },
      "source": [
        "model.compile(\n",
        "        optimizer=_opt,\n",
        "        loss=_loss,\n",
        "        metrics=['categorical_accuracy']\n",
        "    )"
      ],
      "execution_count": 16,
      "outputs": []
    },
    {
      "cell_type": "code",
      "metadata": {
        "colab": {
          "base_uri": "https://localhost:8080/"
        },
        "id": "WkfI0sZV5bYA",
        "outputId": "d22f1169-37df-4765-f5e0-7bfaf6637cfa"
      },
      "source": [
        "model.summary()"
      ],
      "execution_count": 17,
      "outputs": [
        {
          "output_type": "stream",
          "text": [
            "Model: \"sequential_2\"\n",
            "_________________________________________________________________\n",
            "Layer (type)                 Output Shape              Param #   \n",
            "=================================================================\n",
            "random_flip (RandomFlip)     (None, 512, 512, 3)       0         \n",
            "_________________________________________________________________\n",
            "random_rotation (RandomRotat (None, 512, 512, 3)       0         \n",
            "_________________________________________________________________\n",
            "random_crop (RandomCrop)     (None, 224, 224, 3)       0         \n",
            "_________________________________________________________________\n",
            "random_height (RandomHeight) (None, None, 224, 3)      0         \n",
            "_________________________________________________________________\n",
            "random_width (RandomWidth)   (None, None, None, 3)     0         \n",
            "_________________________________________________________________\n",
            "random_contrast (RandomContr (None, None, None, 3)     0         \n",
            "_________________________________________________________________\n",
            "random_zoom (RandomZoom)     (None, None, None, 3)     0         \n",
            "_________________________________________________________________\n",
            "rescaling (Rescaling)        (None, None, None, 3)     0         \n",
            "_________________________________________________________________\n",
            "model_2 (Functional)         (None, 5)                 4232837   \n",
            "=================================================================\n",
            "Total params: 4,232,837\n",
            "Trainable params: 4,208,437\n",
            "Non-trainable params: 24,400\n",
            "_________________________________________________________________\n"
          ],
          "name": "stdout"
        }
      ]
    },
    {
      "cell_type": "code",
      "metadata": {
        "colab": {
          "base_uri": "https://localhost:8080/"
        },
        "id": "SsA1ysKT5fV2",
        "outputId": "ceb658eb-d086-46e1-d2db-d7b03658366d"
      },
      "source": [
        "_es = EarlyStopping(monitor='val_loss',\n",
        "                    mode='min',\n",
        "                    patience=10)\n",
        "_r = ReduceLROnPlateau(monitor='val_loss',\n",
        "                       factor=0.8,\n",
        "                       patience=2,\n",
        "                       verbose=1,\n",
        "                       mode='auto',\n",
        "                       epsilon=0.0001,\n",
        "                       cooldown=5,\n",
        "                       min_lr=0.00001)\n",
        "\n",
        "_callback = [_es, _r]\n",
        "\n",
        "history = model.fit(train_data, validation_data=valid_data, epochs=_epochs, callbacks=_callback, steps_per_epoch=_n_train//_batch_size)\n",
        "model.save('/content/drive/MyDrive/cassava-leaf-disease-classification/MobileNetV3Large_ver_1_1.h5')\n",
        "import pickle\n",
        "with open('/content/drive/MyDrive/cassava-leaf-disease-classification/MobileNetV3_ver_1_1_hist.pkl', 'wb') as f:\n",
        "    pickle.dump(history.history, f, pickle.HIGHEST_PROTOCOL)"
      ],
      "execution_count": 18,
      "outputs": [
        {
          "output_type": "stream",
          "text": [
            "WARNING:tensorflow:`epsilon` argument is deprecated and will be removed, use `min_delta` instead.\n",
            "Epoch 1/20\n",
            "585/585 [==============================] - 225s 330ms/step - loss: 1.3500 - categorical_accuracy: 0.5255 - val_loss: 1.5081 - val_categorical_accuracy: 0.0987\n",
            "Epoch 2/20\n",
            "585/585 [==============================] - 140s 239ms/step - loss: 0.9959 - categorical_accuracy: 0.6713 - val_loss: 1.4862 - val_categorical_accuracy: 0.1001\n",
            "Epoch 3/20\n",
            "585/585 [==============================] - 131s 223ms/step - loss: 0.9270 - categorical_accuracy: 0.6960 - val_loss: 1.6584 - val_categorical_accuracy: 0.1024\n",
            "Epoch 4/20\n",
            "585/585 [==============================] - 123s 210ms/step - loss: 0.8867 - categorical_accuracy: 0.7114 - val_loss: 2.1914 - val_categorical_accuracy: 0.1282\n",
            "Epoch 5/20\n",
            "585/585 [==============================] - 116s 199ms/step - loss: 0.8655 - categorical_accuracy: 0.7183 - val_loss: 2.7822 - val_categorical_accuracy: 0.1259\n",
            "Epoch 6/20\n",
            "585/585 [==============================] - 117s 200ms/step - loss: 0.8251 - categorical_accuracy: 0.7402 - val_loss: 2.7876 - val_categorical_accuracy: 0.1256\n",
            "Epoch 7/20\n",
            "585/585 [==============================] - 111s 190ms/step - loss: 0.8154 - categorical_accuracy: 0.7437 - val_loss: 2.6954 - val_categorical_accuracy: 0.1267\n",
            "Epoch 8/20\n",
            "585/585 [==============================] - 110s 187ms/step - loss: 0.8103 - categorical_accuracy: 0.7475 - val_loss: 2.4975 - val_categorical_accuracy: 0.1278\n",
            "Epoch 9/20\n",
            "585/585 [==============================] - 109s 187ms/step - loss: 0.7798 - categorical_accuracy: 0.7636 - val_loss: 2.0972 - val_categorical_accuracy: 0.1558\n",
            "Epoch 10/20\n",
            "585/585 [==============================] - 107s 183ms/step - loss: 0.7742 - categorical_accuracy: 0.7615 - val_loss: 1.7102 - val_categorical_accuracy: 0.2694\n",
            "Epoch 11/20\n",
            "585/585 [==============================] - 107s 182ms/step - loss: 0.7558 - categorical_accuracy: 0.7722 - val_loss: 1.3754 - val_categorical_accuracy: 0.4316\n",
            "Epoch 12/20\n",
            "585/585 [==============================] - 104s 177ms/step - loss: 0.7579 - categorical_accuracy: 0.7731 - val_loss: 1.1203 - val_categorical_accuracy: 0.5878\n",
            "Epoch 13/20\n",
            "585/585 [==============================] - 102s 175ms/step - loss: 0.7435 - categorical_accuracy: 0.7781 - val_loss: 0.9466 - val_categorical_accuracy: 0.6910\n",
            "Epoch 14/20\n",
            "585/585 [==============================] - 104s 178ms/step - loss: 0.7420 - categorical_accuracy: 0.7778 - val_loss: 0.8783 - val_categorical_accuracy: 0.7152\n",
            "Epoch 15/20\n",
            "585/585 [==============================] - 103s 175ms/step - loss: 0.7330 - categorical_accuracy: 0.7826 - val_loss: 0.7992 - val_categorical_accuracy: 0.7575\n",
            "Epoch 16/20\n",
            "585/585 [==============================] - 101s 172ms/step - loss: 0.7248 - categorical_accuracy: 0.7819 - val_loss: 0.7873 - val_categorical_accuracy: 0.7635\n",
            "Epoch 17/20\n",
            "585/585 [==============================] - 102s 175ms/step - loss: 0.7186 - categorical_accuracy: 0.7879 - val_loss: 0.7580 - val_categorical_accuracy: 0.7773\n",
            "Epoch 18/20\n",
            "585/585 [==============================] - 101s 172ms/step - loss: 0.7186 - categorical_accuracy: 0.7886 - val_loss: 0.7447 - val_categorical_accuracy: 0.7840\n",
            "Epoch 19/20\n",
            "585/585 [==============================] - 100s 171ms/step - loss: 0.7077 - categorical_accuracy: 0.7894 - val_loss: 0.7378 - val_categorical_accuracy: 0.7806\n",
            "Epoch 20/20\n",
            "585/585 [==============================] - 101s 173ms/step - loss: 0.7084 - categorical_accuracy: 0.7915 - val_loss: 0.7533 - val_categorical_accuracy: 0.7780\n"
          ],
          "name": "stdout"
        }
      ]
    },
    {
      "cell_type": "code",
      "metadata": {
        "colab": {
          "base_uri": "https://localhost:8080/"
        },
        "id": "9CqW02wJfXe5",
        "outputId": "6e121be4-4f44-4b84-ac7e-611496f5d0ab"
      },
      "source": [
        "for i in model_ver_4.layers:\n",
        "    i.trainable = True\n",
        "    if 'bn' in i.name:\n",
        "        i.trainable = False\n",
        "\n",
        "history2 = model.fit(train_data, validation_data=valid_data, epochs=30, callbacks=_callback, steps_per_epoch=_n_train//_batch_size)\n",
        "model.save('/content/drive/MyDrive/cassava-leaf-disease-classification/MobileNetV3Large_ver_1_1_cp2.h5')"
      ],
      "execution_count": 19,
      "outputs": [
        {
          "output_type": "stream",
          "text": [
            "Epoch 1/30\n",
            "585/585 [==============================] - 107s 172ms/step - loss: 0.7003 - categorical_accuracy: 0.7952 - val_loss: 0.7377 - val_categorical_accuracy: 0.7859\n",
            "Epoch 2/30\n",
            "585/585 [==============================] - 99s 170ms/step - loss: 0.6932 - categorical_accuracy: 0.8021 - val_loss: 0.7225 - val_categorical_accuracy: 0.8001\n",
            "Epoch 3/30\n",
            "585/585 [==============================] - 100s 171ms/step - loss: 0.7005 - categorical_accuracy: 0.7949 - val_loss: 0.7031 - val_categorical_accuracy: 0.8049\n",
            "Epoch 4/30\n",
            "585/585 [==============================] - 98s 168ms/step - loss: 0.6941 - categorical_accuracy: 0.7998 - val_loss: 0.7237 - val_categorical_accuracy: 0.7889\n",
            "Epoch 5/30\n",
            "585/585 [==============================] - 100s 171ms/step - loss: 0.6867 - categorical_accuracy: 0.8040 - val_loss: 0.7160 - val_categorical_accuracy: 0.7967\n",
            "Epoch 6/30\n",
            "585/585 [==============================] - 97s 166ms/step - loss: 0.6919 - categorical_accuracy: 0.8002 - val_loss: 0.7264 - val_categorical_accuracy: 0.7919\n",
            "Epoch 7/30\n",
            "585/585 [==============================] - 98s 168ms/step - loss: 0.6813 - categorical_accuracy: 0.8037 - val_loss: 0.7021 - val_categorical_accuracy: 0.8027\n",
            "Epoch 8/30\n",
            "585/585 [==============================] - 98s 168ms/step - loss: 0.6762 - categorical_accuracy: 0.8083 - val_loss: 0.6811 - val_categorical_accuracy: 0.8173\n",
            "Epoch 9/30\n",
            "585/585 [==============================] - 99s 169ms/step - loss: 0.6776 - categorical_accuracy: 0.8052 - val_loss: 0.6874 - val_categorical_accuracy: 0.8139\n",
            "Epoch 10/30\n",
            "585/585 [==============================] - 99s 169ms/step - loss: 0.6841 - categorical_accuracy: 0.8041 - val_loss: 0.6985 - val_categorical_accuracy: 0.8075\n",
            "Epoch 11/30\n",
            "585/585 [==============================] - 98s 168ms/step - loss: 0.6695 - categorical_accuracy: 0.8137 - val_loss: 0.6843 - val_categorical_accuracy: 0.8146\n",
            "Epoch 12/30\n",
            "585/585 [==============================] - 99s 169ms/step - loss: 0.6704 - categorical_accuracy: 0.8068 - val_loss: 0.6929 - val_categorical_accuracy: 0.8102\n",
            "Epoch 13/30\n",
            "585/585 [==============================] - 99s 169ms/step - loss: 0.6679 - categorical_accuracy: 0.8105 - val_loss: 0.6933 - val_categorical_accuracy: 0.8117\n",
            "Epoch 14/30\n",
            "585/585 [==============================] - 97s 166ms/step - loss: 0.6718 - categorical_accuracy: 0.8073 - val_loss: 0.6915 - val_categorical_accuracy: 0.8083\n",
            "Epoch 15/30\n",
            "585/585 [==============================] - 97s 166ms/step - loss: 0.6715 - categorical_accuracy: 0.8080 - val_loss: 0.6990 - val_categorical_accuracy: 0.7993\n",
            "Epoch 16/30\n",
            "585/585 [==============================] - 98s 168ms/step - loss: 0.6637 - categorical_accuracy: 0.8101 - val_loss: 0.6845 - val_categorical_accuracy: 0.8094\n",
            "Epoch 17/30\n",
            "585/585 [==============================] - 99s 170ms/step - loss: 0.6551 - categorical_accuracy: 0.8127 - val_loss: 0.6764 - val_categorical_accuracy: 0.8139\n",
            "Epoch 18/30\n",
            "585/585 [==============================] - 98s 167ms/step - loss: 0.6663 - categorical_accuracy: 0.8104 - val_loss: 0.6641 - val_categorical_accuracy: 0.8229\n",
            "Epoch 19/30\n",
            "585/585 [==============================] - 98s 168ms/step - loss: 0.6492 - categorical_accuracy: 0.8160 - val_loss: 0.6613 - val_categorical_accuracy: 0.8217\n",
            "Epoch 20/30\n",
            "585/585 [==============================] - 98s 168ms/step - loss: 0.6569 - categorical_accuracy: 0.8163 - val_loss: 0.6694 - val_categorical_accuracy: 0.8176\n",
            "Epoch 21/30\n",
            "585/585 [==============================] - 98s 167ms/step - loss: 0.6527 - categorical_accuracy: 0.8149 - val_loss: 0.6645 - val_categorical_accuracy: 0.8184\n",
            "Epoch 22/30\n",
            "585/585 [==============================] - 97s 166ms/step - loss: 0.6532 - categorical_accuracy: 0.8155 - val_loss: 0.6694 - val_categorical_accuracy: 0.8176\n",
            "Epoch 23/30\n",
            "585/585 [==============================] - 97s 166ms/step - loss: 0.6570 - categorical_accuracy: 0.8138 - val_loss: 0.6505 - val_categorical_accuracy: 0.8217\n",
            "Epoch 24/30\n",
            "585/585 [==============================] - 98s 167ms/step - loss: 0.6473 - categorical_accuracy: 0.8182 - val_loss: 0.6500 - val_categorical_accuracy: 0.8236\n",
            "Epoch 25/30\n",
            "585/585 [==============================] - 97s 166ms/step - loss: 0.6414 - categorical_accuracy: 0.8202 - val_loss: 0.6554 - val_categorical_accuracy: 0.8184\n",
            "Epoch 26/30\n",
            "585/585 [==============================] - 98s 168ms/step - loss: 0.6430 - categorical_accuracy: 0.8193 - val_loss: 0.6586 - val_categorical_accuracy: 0.8165\n",
            "Epoch 27/30\n",
            "585/585 [==============================] - 97s 166ms/step - loss: 0.6430 - categorical_accuracy: 0.8203 - val_loss: 0.6543 - val_categorical_accuracy: 0.8214\n",
            "Epoch 28/30\n",
            "585/585 [==============================] - 97s 166ms/step - loss: 0.6376 - categorical_accuracy: 0.8232 - val_loss: 0.6386 - val_categorical_accuracy: 0.8300\n",
            "Epoch 29/30\n",
            "585/585 [==============================] - 97s 166ms/step - loss: 0.6430 - categorical_accuracy: 0.8193 - val_loss: 0.6481 - val_categorical_accuracy: 0.8244\n",
            "Epoch 30/30\n",
            "585/585 [==============================] - 97s 166ms/step - loss: 0.6390 - categorical_accuracy: 0.8215 - val_loss: 0.6404 - val_categorical_accuracy: 0.8270\n"
          ],
          "name": "stdout"
        }
      ]
    },
    {
      "cell_type": "code",
      "metadata": {
        "colab": {
          "base_uri": "https://localhost:8080/"
        },
        "id": "JZxG4fJFrHxL",
        "outputId": "c0d31af3-ff19-47b5-9295-52c16e6a9c34"
      },
      "source": [
        "history3 = model.fit(train_data, validation_data=valid_data, epochs=20, callbacks=_callback, steps_per_epoch=_n_train//_batch_size)\n",
        "model.save('/content/drive/MyDrive/cassava-leaf-disease-classification/MobileNetV3Large_ver_1_1_cp3.h5')"
      ],
      "execution_count": 20,
      "outputs": [
        {
          "output_type": "stream",
          "text": [
            "Epoch 1/20\n",
            "585/585 [==============================] - 105s 167ms/step - loss: 0.6291 - categorical_accuracy: 0.8267 - val_loss: 0.6497 - val_categorical_accuracy: 0.8199\n",
            "Epoch 2/20\n",
            "585/585 [==============================] - 97s 165ms/step - loss: 0.6365 - categorical_accuracy: 0.8234 - val_loss: 0.6371 - val_categorical_accuracy: 0.8281\n",
            "Epoch 3/20\n",
            "585/585 [==============================] - 97s 166ms/step - loss: 0.6361 - categorical_accuracy: 0.8247 - val_loss: 0.6463 - val_categorical_accuracy: 0.8221\n",
            "Epoch 4/20\n",
            "585/585 [==============================] - 97s 166ms/step - loss: 0.6360 - categorical_accuracy: 0.8243 - val_loss: 0.6568 - val_categorical_accuracy: 0.8184\n",
            "Epoch 5/20\n",
            "585/585 [==============================] - 96s 164ms/step - loss: 0.6288 - categorical_accuracy: 0.8255 - val_loss: 0.6355 - val_categorical_accuracy: 0.8270\n",
            "Epoch 6/20\n",
            "585/585 [==============================] - 97s 166ms/step - loss: 0.6308 - categorical_accuracy: 0.8247 - val_loss: 0.6560 - val_categorical_accuracy: 0.8139\n",
            "Epoch 7/20\n",
            "585/585 [==============================] - 97s 167ms/step - loss: 0.6226 - categorical_accuracy: 0.8290 - val_loss: 0.6327 - val_categorical_accuracy: 0.8266\n",
            "Epoch 8/20\n",
            "585/585 [==============================] - 96s 164ms/step - loss: 0.6312 - categorical_accuracy: 0.8256 - val_loss: 0.6429 - val_categorical_accuracy: 0.8199\n",
            "Epoch 9/20\n",
            "585/585 [==============================] - 95s 163ms/step - loss: 0.6301 - categorical_accuracy: 0.8244 - val_loss: 0.6497 - val_categorical_accuracy: 0.8232\n",
            "Epoch 10/20\n",
            "585/585 [==============================] - 98s 168ms/step - loss: 0.6228 - categorical_accuracy: 0.8304 - val_loss: 0.6404 - val_categorical_accuracy: 0.8232\n",
            "Epoch 11/20\n",
            "585/585 [==============================] - 97s 165ms/step - loss: 0.6298 - categorical_accuracy: 0.8261 - val_loss: 0.6315 - val_categorical_accuracy: 0.8277\n",
            "Epoch 12/20\n",
            "585/585 [==============================] - 96s 164ms/step - loss: 0.6228 - categorical_accuracy: 0.8261 - val_loss: 0.6421 - val_categorical_accuracy: 0.8229\n",
            "Epoch 13/20\n",
            "585/585 [==============================] - 97s 166ms/step - loss: 0.6185 - categorical_accuracy: 0.8302 - val_loss: 0.6443 - val_categorical_accuracy: 0.8217\n",
            "Epoch 14/20\n",
            "585/585 [==============================] - 98s 167ms/step - loss: 0.6219 - categorical_accuracy: 0.8293 - val_loss: 0.6475 - val_categorical_accuracy: 0.8210\n",
            "Epoch 15/20\n",
            "585/585 [==============================] - 96s 164ms/step - loss: 0.6200 - categorical_accuracy: 0.8315 - val_loss: 0.6334 - val_categorical_accuracy: 0.8259\n",
            "Epoch 16/20\n",
            "585/585 [==============================] - 98s 168ms/step - loss: 0.6158 - categorical_accuracy: 0.8340 - val_loss: 0.6402 - val_categorical_accuracy: 0.8247\n",
            "Epoch 17/20\n",
            "585/585 [==============================] - 97s 165ms/step - loss: 0.6161 - categorical_accuracy: 0.8333 - val_loss: 0.6236 - val_categorical_accuracy: 0.8322\n",
            "Epoch 18/20\n",
            "585/585 [==============================] - 95s 163ms/step - loss: 0.6189 - categorical_accuracy: 0.8329 - val_loss: 0.6180 - val_categorical_accuracy: 0.8371\n",
            "Epoch 19/20\n",
            "585/585 [==============================] - 98s 168ms/step - loss: 0.6086 - categorical_accuracy: 0.8349 - val_loss: 0.6172 - val_categorical_accuracy: 0.8341\n",
            "Epoch 20/20\n",
            "585/585 [==============================] - 97s 165ms/step - loss: 0.6112 - categorical_accuracy: 0.8306 - val_loss: 0.6194 - val_categorical_accuracy: 0.8326\n"
          ],
          "name": "stdout"
        }
      ]
    },
    {
      "cell_type": "code",
      "metadata": {
        "colab": {
          "base_uri": "https://localhost:8080/"
        },
        "id": "6dJWRi-0zmhJ",
        "outputId": "e3b0f567-03ef-43dc-ccf7-1269f23def70"
      },
      "source": [
        "history4 = model.fit(train_data, validation_data=valid_data, epochs=20, callbacks=_callback, steps_per_epoch=_n_train//_batch_size)\n",
        "model.save('/content/drive/MyDrive/cassava-leaf-disease-classification/MobileNetV3Large_ver_1_1_cp4.h5')"
      ],
      "execution_count": 22,
      "outputs": [
        {
          "output_type": "stream",
          "text": [
            "Epoch 1/20\n",
            "585/585 [==============================] - 104s 165ms/step - loss: 0.6119 - categorical_accuracy: 0.8351 - val_loss: 0.6196 - val_categorical_accuracy: 0.8326\n",
            "Epoch 2/20\n",
            "585/585 [==============================] - 96s 165ms/step - loss: 0.6127 - categorical_accuracy: 0.8325 - val_loss: 0.6174 - val_categorical_accuracy: 0.8352\n",
            "Epoch 3/20\n",
            "585/585 [==============================] - 97s 166ms/step - loss: 0.6093 - categorical_accuracy: 0.8349 - val_loss: 0.6134 - val_categorical_accuracy: 0.8359\n",
            "Epoch 4/20\n",
            "585/585 [==============================] - 98s 167ms/step - loss: 0.6078 - categorical_accuracy: 0.8396 - val_loss: 0.6188 - val_categorical_accuracy: 0.8348\n",
            "Epoch 5/20\n",
            "585/585 [==============================] - 98s 167ms/step - loss: 0.6045 - categorical_accuracy: 0.8376 - val_loss: 0.6189 - val_categorical_accuracy: 0.8348\n",
            "Epoch 6/20\n",
            "585/585 [==============================] - 98s 167ms/step - loss: 0.6057 - categorical_accuracy: 0.8370 - val_loss: 0.6120 - val_categorical_accuracy: 0.8363\n",
            "Epoch 7/20\n",
            "585/585 [==============================] - 97s 166ms/step - loss: 0.6053 - categorical_accuracy: 0.8366 - val_loss: 0.6107 - val_categorical_accuracy: 0.8371\n",
            "Epoch 8/20\n",
            "585/585 [==============================] - 97s 166ms/step - loss: 0.6068 - categorical_accuracy: 0.8366 - val_loss: 0.6187 - val_categorical_accuracy: 0.8333\n",
            "Epoch 9/20\n",
            "585/585 [==============================] - 98s 167ms/step - loss: 0.5953 - categorical_accuracy: 0.8434 - val_loss: 0.6280 - val_categorical_accuracy: 0.8288\n",
            "Epoch 10/20\n",
            "585/585 [==============================] - 96s 165ms/step - loss: 0.5937 - categorical_accuracy: 0.8429 - val_loss: 0.6184 - val_categorical_accuracy: 0.8303\n",
            "Epoch 11/20\n",
            "585/585 [==============================] - 98s 167ms/step - loss: 0.6015 - categorical_accuracy: 0.8388 - val_loss: 0.6202 - val_categorical_accuracy: 0.8356\n",
            "Epoch 12/20\n",
            "585/585 [==============================] - 96s 164ms/step - loss: 0.6095 - categorical_accuracy: 0.8311 - val_loss: 0.6241 - val_categorical_accuracy: 0.8330\n",
            "Epoch 13/20\n",
            "585/585 [==============================] - 98s 167ms/step - loss: 0.5988 - categorical_accuracy: 0.8403 - val_loss: 0.6117 - val_categorical_accuracy: 0.8345\n",
            "Epoch 14/20\n",
            "585/585 [==============================] - 96s 164ms/step - loss: 0.5915 - categorical_accuracy: 0.8427 - val_loss: 0.6212 - val_categorical_accuracy: 0.8330\n",
            "Epoch 15/20\n",
            "585/585 [==============================] - 98s 167ms/step - loss: 0.6008 - categorical_accuracy: 0.8377 - val_loss: 0.6124 - val_categorical_accuracy: 0.8386\n",
            "Epoch 16/20\n",
            "585/585 [==============================] - 96s 165ms/step - loss: 0.5976 - categorical_accuracy: 0.8415 - val_loss: 0.6123 - val_categorical_accuracy: 0.8341\n",
            "Epoch 17/20\n",
            "585/585 [==============================] - 96s 164ms/step - loss: 0.5925 - categorical_accuracy: 0.8424 - val_loss: 0.6197 - val_categorical_accuracy: 0.8352\n"
          ],
          "name": "stdout"
        }
      ]
    },
    {
      "cell_type": "code",
      "metadata": {
        "id": "ADe1XSYDxxwE"
      },
      "source": [
        "with open('/content/drive/MyDrive/cassava-leaf-disease-classification/MobileNetV3_ver_1_1_cp2.pkl', 'wb') as f:\n",
        "    pickle.dump(history2.history, f, pickle.HIGHEST_PROTOCOL)\n",
        "with open('/content/drive/MyDrive/cassava-leaf-disease-classification/MobileNetV3_ver_1_1_cp3.pkl', 'wb') as f:\n",
        "    pickle.dump(history3.history, f, pickle.HIGHEST_PROTOCOL)\n",
        "with open('/content/drive/MyDrive/cassava-leaf-disease-classification/MobileNetV3_ver_1_1_cp4.pkl', 'wb') as f:\n",
        "    pickle.dump(history4.history, f, pickle.HIGHEST_PROTOCOL)"
      ],
      "execution_count": 23,
      "outputs": []
    },
    {
      "cell_type": "code",
      "metadata": {
        "colab": {
          "base_uri": "https://localhost:8080/",
          "height": 279
        },
        "id": "UUhylZWexz0I",
        "outputId": "ed0e51de-2759-41e1-8725-2b56ebb9a5a5"
      },
      "source": [
        "plt.plot(history.history['val_categorical_accuracy'] + \n",
        "         history2.history['val_categorical_accuracy'] + \n",
        "         history3.history['val_categorical_accuracy']  + \n",
        "         history4.history['val_categorical_accuracy'], label='Validation Acc.')\n",
        "plt.plot(history.history['categorical_accuracy'] + \n",
        "         history2.history['categorical_accuracy'] + \n",
        "         history3.history['categorical_accuracy'] + \n",
        "         history4.history['categorical_accuracy'], label='Train Acc.')\n",
        "plt.xlabel('Epochs')\n",
        "plt.ylabel('Accuracy')\n",
        "plt.legend()\n",
        "plt.show()"
      ],
      "execution_count": 25,
      "outputs": [
        {
          "output_type": "display_data",
          "data": {
            "image/png": "[encoded data removed]",
            "text/plain": [
              "<Figure size 432x288 with 1 Axes>"
            ]
          },
          "metadata": {
            "tags": [],
            "needs_background": "light"
          }
        }
      ]
    },
    {
      "cell_type": "code",
      "metadata": {
        "colab": {
          "base_uri": "https://localhost:8080/",
          "height": 279
        },
        "id": "ItyTLBaUx66I",
        "outputId": "6d4c4819-6aec-4933-8b79-eeaab7bc90c8"
      },
      "source": [
        "plt.plot(history.history['val_loss'] + history2.history['val_loss'] + history3.history['val_loss'] + history4.history['val_loss'], label='Validation Loss')\n",
        "plt.plot(history.history['loss'] + history2.history['loss'] + history3.history['loss'] + history4.history['val_loss'], label='Train Loss')\n",
        "plt.xlabel('Epochs')\n",
        "plt.ylabel('Loss')\n",
        "plt.legend()\n",
        "plt.show()"
      ],
      "execution_count": 26,
      "outputs": [
        {
          "output_type": "display_data",
          "data": {
            "image/png": "[encoded data removed]",
            "text/plain": [
              "<Figure size 432x288 with 1 Axes>"
            ]
          },
          "metadata": {
            "tags": [],
            "needs_background": "light"
          }
        }
      ]
    }
  ]
}