{
  "nbformat": 4,
  "nbformat_minor": 0,
  "metadata": {
    "colab": {
      "name": "Inception V3.ipynb",
      "provenance": [],
      "collapsed_sections": [],
      "machine_shape": "hm"
    },
    "kernelspec": {
      "name": "python3",
      "display_name": "Python 3"
    },
    "accelerator": "GPU"
  },
  "cells": [
    {
      "cell_type": "code",
      "metadata": {
        "id": "DGvYY2zkiOVN"
      },
      "source": [
        "import os\n",
        "\n",
        "os.environ['KAGGLE_USERNAME'] = \"daxinniu122\" # username from the json file\n",
        "os.environ['KAGGLE_KEY'] = \"2ed6804df3e3e2e0d5053c862fa7020a\" # key from the json file"
      ],
      "execution_count": 5,
      "outputs": []
    },
    {
      "cell_type": "code",
      "metadata": {
        "colab": {
          "base_uri": "https://localhost:8080/"
        },
        "id": "kb8S6JIlijb6",
        "outputId": "d8b0bcb2-2869-4d4e-a30c-c1295602eb4b"
      },
      "source": [
        "from google.colab import drive\n",
        "drive.mount('/content/drive', force_remount=True)"
      ],
      "execution_count": 2,
      "outputs": [
        {
          "output_type": "stream",
          "text": [
            "Mounted at /content/drive\n"
          ],
          "name": "stdout"
        }
      ]
    },
    {
      "cell_type": "code",
      "metadata": {
        "colab": {
          "base_uri": "https://localhost:8080/"
        },
        "id": "snpx7a8_jPLO",
        "outputId": "e46c4431-e79b-4b81-f7bd-67487b9f5bb0"
      },
      "source": [
        "# Library import\n",
        "import pandas as pd\n",
        "import os\n",
        "import re\n",
        "import tensorflow as tf\n",
        "import pandas as pd\n",
        "import os\n",
        "import pickle\n",
        "import re\n",
        "import cv2\n",
        "import albumentations as alb\n",
        "import numpy as np\n",
        "from tensorflow.keras.callbacks import EarlyStopping, TensorBoard, ReduceLROnPlateau\n",
        "from tensorflow.keras.optimizers import Adam\n",
        "from tensorflow.keras.optimizers.schedules import ExponentialDecay\n",
        "from tensorflow.keras.applications import VGG19, ResNet152V2, InceptionResNetV2\n",
        "from tensorflow.keras.layers import AveragePooling2D, Activation, GlobalAveragePooling2D\n",
        "from tensorflow.keras.regularizers import l1_l2\n",
        "from tensorflow.keras.layers import Dropout\n",
        "from tensorflow.keras.applications.resnet50 import ResNet50\n",
        "from tensorflow.keras.layers import Flatten\n",
        "from tensorflow.keras.layers import Dense\n",
        "from tensorflow.keras.layers import BatchNormalization\n",
        "from tensorflow.keras.models import Model\n",
        "from tensorflow.keras.optimizers import Adam\n",
        "from tensorflow.keras.losses import CategoricalCrossentropy\n",
        "from functools import partial\n",
        "from sklearn.model_selection import train_test_split\n",
        "import matplotlib.pyplot as plt\n",
        "from tensorflow.keras.models import Sequential, Model\n",
        "from tensorflow.keras.callbacks import ModelCheckpoint, EarlyStopping, ReduceLROnPlateau\n",
        "from tensorflow.keras.layers import Dense, Dropout, Flatten, GlobalAveragePooling2D, BatchNormalization, Activation\n",
        "from tensorflow.keras.applications import EfficientNetB3, EfficientNetB4\n",
        "from tensorflow.keras.losses import CategoricalCrossentropy\n",
        "from tensorflow.keras.preprocessing.image import ImageDataGenerator\n",
        "from sklearn.model_selection import train_test_split\n",
        "from tensorflow import keras\n",
        "from tensorflow.keras.callbacks import EarlyStopping, TensorBoard\n",
        "from tensorflow.keras.optimizers import Adam\n",
        "from tensorflow.keras.optimizers.schedules import ExponentialDecay\n",
        "from tensorflow.keras.applications import VGG16\n",
        "from functools import partial\n",
        "from sklearn.model_selection import train_test_split\n",
        "\n",
        "# Constant Variables:\n",
        "_auto_tune = tf.data.experimental.AUTOTUNE\n",
        "_batch_size = 16\n",
        "\n",
        "_image_width_original = 512\n",
        "_image_height_original = 512\n",
        "_image_size = [_image_width_original, _image_height_original]\n",
        "\n",
        "_image_resize_width = 336\n",
        "_image_resize_height = 336\n",
        "_image_resize = [_image_resize_width, _image_resize_height]\n",
        "print('Model input shape {} x {}.'.format(_image_resize_width, _image_resize_height))\n",
        "\n",
        "_channels = 3\n",
        "_n_class = 5\n",
        "_n_repeat = 4\n",
        "_img_norm = 255.0\n",
        "\n",
        "_classes = [str(x) for x in range(_n_class)]\n",
        "_major_label = 3\n",
        "_classes_names = ['Cassava Bacterial Blight',\n",
        "                  'Cassava Brown Streak Disease',\n",
        "                  'Cassava Green Mottle',\n",
        "                  'Cassava Mosaic Disease',\n",
        "                  'Healthy']\n",
        "_train_file = '/content/drive/MyDrive/sleepy_guys/cassava-leaf-disease-classification/train_tfrecords/'\n",
        "_train_recs = list(filter(lambda x: '.tfrec' in x, os.listdir(_train_file)))\n",
        "_epochs = 20\n",
        "_valid_size = 0.1\n",
        "_train_df = pd.read_csv('/content/drive/MyDrive/sleepy_guys/cassava-leaf-disease-classification/train.csv', encoding='utf_8_sig',\n",
        "                        engine='python')\n",
        "_file_label_map = dict(zip(_train_df.image_id.tolist(), _train_df.label.astype(int).tolist()))\n",
        "_random_corp_size = [_image_resize_width, _image_resize_height, _channels]\n",
        "\n",
        "\n",
        "# Decoding single image:\n",
        "def decode_img(img,\n",
        "               n_channels: int = _channels,\n",
        "               img_size: list = None,\n",
        "               img_norm: float = _img_norm):\n",
        "    if img_size is None:\n",
        "        img_size = _image_size\n",
        "    img = tf.image.decode_jpeg(img, channels=n_channels)\n",
        "    img = tf.reshape(img, [*img_size, n_channels])\n",
        "    # img = tf.cast(img, tf.float32) / img_norm\n",
        "    return img\n",
        "\n",
        "\n",
        "# Parsing the files\n",
        "def parse_img(x,\n",
        "              n_class: int = _n_class):\n",
        "    feature_description = {'image': tf.io.FixedLenFeature([], tf.string, default_value=''),\n",
        "                           'target': tf.io.FixedLenFeature([], tf.int64, default_value=-1)}\n",
        "    parsed_features = tf.io.parse_single_example(x, feature_description)\n",
        "    img = decode_img(parsed_features['image'])\n",
        "    label = tf.one_hot(parsed_features['target'], depth=n_class)\n",
        "    return img, label\n",
        "\n",
        "\n",
        "# Load data\n",
        "def load_img(files: list,\n",
        "             ordered=False):\n",
        "    df = tf.data.TFRecordDataset(files)\n",
        "    ignore_order = tf.data.Options()\n",
        "    if not ordered:\n",
        "        ignore_order.experimental_deterministic = False\n",
        "    df = df.with_options(ignore_order)\n",
        "    df = df.map(parse_img)\n",
        "    return df\n",
        "\n",
        "\n",
        "# Train-validation split\n",
        "_train_fn, _valid_fn = \\\n",
        "    train_test_split(tf.io.gfile.glob(_train_file + 'ld_train*.tfrec'),\n",
        "                     test_size=_valid_size,\n",
        "                     random_state=5,\n",
        "                     shuffle=True)"
      ],
      "execution_count": 13,
      "outputs": [
        {
          "output_type": "stream",
          "text": [
            "Model input shape 336 x 336.\n"
          ],
          "name": "stdout"
        }
      ]
    },
    {
      "cell_type": "code",
      "metadata": {
        "colab": {
          "base_uri": "https://localhost:8080/"
        },
        "id": "IXWaOKwkubHR",
        "outputId": "62f7235e-883a-44e9-b116-0cce19fbb66d"
      },
      "source": [
        "\n",
        "# Function for getting the training data set\n",
        "def get_train_data(train_fn: list = _train_fn,\n",
        "                   batch_size: int = _batch_size):\n",
        "    df = load_img(train_fn)\n",
        "    df = df.repeat().shuffle(2048).batch(batch_size).prefetch(_auto_tune)\n",
        "    return df\n",
        "\n",
        "\n",
        "# Function for getting the validation data set\n",
        "def get_valid_data(valid_fn: list = _valid_fn,\n",
        "                   batch_size: int = _batch_size):\n",
        "    df = load_img(valid_fn)\n",
        "    df = df.batch(batch_size).cache().prefetch(_auto_tune)\n",
        "    return df\n",
        "\n",
        "\n",
        "# Reporting the size of training, validation and testing data\n",
        "def report_data_size(train_f=_train_fn,\n",
        "                     valid_f=_valid_fn):\n",
        "    def count_file(x):\n",
        "        return sum([int(re.compile(r\"-([0-9]*)\\.\").search(i).group(1)) for i in x])\n",
        "\n",
        "    n_train, n_valid= count_file(train_f), count_file(valid_f)\n",
        "    print('Train Images: {} | Validation Images: {}'.format(n_train, n_valid))\n",
        "    return n_train, n_valid\n",
        "\n",
        "\n",
        "# Check the size of the data\n",
        "_n_train, _n_valid = report_data_size()\n",
        "\n",
        "# Fetching training, validation and testing data\n",
        "train_data = get_train_data()\n",
        "valid_data = get_valid_data()\n",
        "all_data = get_train_data(train_fn = _train_fn + _valid_fn)\n",
        "\n",
        "print(\"Train Data Size {} | Validation Data Size {}\".format(train_data._flat_shapes, valid_data._flat_shapes))"
      ],
      "execution_count": 14,
      "outputs": [
        {
          "output_type": "stream",
          "text": [
            "Train Images: 18721 | Validation Images: 2676\n",
            "Train Data Size [TensorShape([None, 512, 512, 3]), TensorShape([None, 5])] | Validation Data Size [TensorShape([None, 512, 512, 3]), TensorShape([None, 5])]\n"
          ],
          "name": "stdout"
        }
      ]
    },
    {
      "cell_type": "code",
      "metadata": {
        "id": "xXZrktqizGth"
      },
      "source": [
        "input_module = tf.keras.layers.Input(shape=(*_image_size, _channels))\n",
        "flip_module = tf.keras.layers.experimental.preprocessing.RandomFlip(mode='horizontal_and_vertical')\n",
        "roration_module = tf.keras.layers.experimental.preprocessing.RandomRotation(factor=(-0.4, 0.4))\n",
        "crop_module = tf.keras.layers.experimental.preprocessing.RandomCrop(height=_image_resize_height, width=_image_resize_width)\n",
        "rand_height_module = tf.keras.layers.experimental.preprocessing.RandomHeight(factor=0.25)\n",
        "rand_width_module = tf.keras.layers.experimental.preprocessing.RandomWidth(factor=0.25)\n",
        "contrast_module = tf.keras.layers.experimental.preprocessing.RandomContrast(factor=0.3)\n",
        "zoom_module = tf.keras.layers.experimental.preprocessing.RandomZoom(0.5, 0.3)\n",
        "rescale_module = tf.keras.layers.experimental.preprocessing.Rescaling(scale=1/255)"
      ],
      "execution_count": 15,
      "outputs": []
    },
    {
      "cell_type": "code",
      "metadata": {
        "id": "82OCc4VH000t"
      },
      "source": [
        "from keras.applications.inception_v3 import InceptionV3\n",
        "from tensorflow.keras.layers import Dense, Conv2D, MaxPool2D, Flatten, Dropout, AveragePooling2D, BatchNormalization\n",
        "from tensorflow.keras import regularizers\n",
        "\n",
        "def load_model():\n",
        "    base =  InceptionV3(include_top=False, weights = 'imagenet', input_shape = (None,None,3))\n",
        "\n",
        "    x = base.output\n",
        "    x = GlobalAveragePooling2D()(x)\n",
        "    x = Dense(5,\n",
        "              activation='softmax')(x)\n",
        "\n",
        "\n",
        "    # head = base.output\n",
        "    # #head = AveragePooling2D(pool_size=(2,2))(head)\n",
        "    # #head = BatchNormalization()(head)\n",
        "    # #head = Conv2D(filters=128, kernel_size=(3, 3), padding='same', activation='relu', kernel_regularizer=regularizers.l2(l=0.01))(head)\n",
        "    # head = MaxPool2D(pool_size=(2, 2))(head)\n",
        "    # # head = Conv2D(filters=64, kernel_size=(3, 3), padding='same', activation='relu', kernel_regularizer=regularizers.l2(l=0.01))(head)\n",
        "    # # head = MaxPool2D(pool_size=(2, 2))(head)\n",
        "    # head = Flatten()(head)\n",
        "    # head = Dense(32, activation='relu', kernel_regularizer='l1')(head)\n",
        "    # head = Dropout(rate=0.2)(head)\n",
        "    # head = Dense(5, activation='softmax')(head)\n",
        "\n",
        "    m = Model(inputs=base.input, outputs=x)\n",
        "    return m"
      ],
      "execution_count": 33,
      "outputs": []
    },
    {
      "cell_type": "code",
      "metadata": {
        "id": "m4-7Cfmh4gG_"
      },
      "source": [
        "_opt = tf.keras.optimizers.Adam(lr=1e-05)\n",
        "_loss = CategoricalCrossentropy(label_smoothing=0.05)\n",
        "_epochs = 30\n",
        "_finetune_epochs = 10\n",
        "\n",
        "model_ver_4 = load_model()"
      ],
      "execution_count": 34,
      "outputs": []
    },
    {
      "cell_type": "code",
      "metadata": {
        "id": "8Lg9NMXF5KiF"
      },
      "source": [
        "model = tf.keras.Sequential([input_module, \n",
        "                             flip_module,\n",
        "                             roration_module,\n",
        "                             crop_module,\n",
        "                             rand_height_module,\n",
        "                             rand_width_module,\n",
        "                             contrast_module,\n",
        "                             zoom_module,\n",
        "                             model_ver_4])"
      ],
      "execution_count": 35,
      "outputs": []
    },
    {
      "cell_type": "code",
      "metadata": {
        "id": "ObeC4aC86uad"
      },
      "source": [
        "model.compile(\n",
        "        optimizer=_opt,\n",
        "        loss=_loss,\n",
        "        metrics=['categorical_accuracy']\n",
        "    )"
      ],
      "execution_count": 36,
      "outputs": []
    },
    {
      "cell_type": "code",
      "metadata": {
        "colab": {
          "base_uri": "https://localhost:8080/"
        },
        "id": "WkfI0sZV5bYA",
        "outputId": "b2b46940-8304-4262-f20d-60a1ce7cd94c"
      },
      "source": [
        "model.summary()"
      ],
      "execution_count": 37,
      "outputs": [
        {
          "output_type": "stream",
          "text": [
            "Model: \"sequential_1\"\n",
            "_________________________________________________________________\n",
            "Layer (type)                 Output Shape              Param #   \n",
            "=================================================================\n",
            "random_flip (RandomFlip)     (None, 512, 512, 3)       0         \n",
            "_________________________________________________________________\n",
            "random_rotation (RandomRotat (None, 512, 512, 3)       0         \n",
            "_________________________________________________________________\n",
            "random_crop (RandomCrop)     (None, 336, 336, 3)       0         \n",
            "_________________________________________________________________\n",
            "random_height (RandomHeight) (None, None, 336, 3)      0         \n",
            "_________________________________________________________________\n",
            "random_width (RandomWidth)   (None, None, None, 3)     0         \n",
            "_________________________________________________________________\n",
            "random_contrast (RandomContr (None, None, None, 3)     0         \n",
            "_________________________________________________________________\n",
            "random_zoom (RandomZoom)     (None, None, None, 3)     0         \n",
            "_________________________________________________________________\n",
            "model_1 (Functional)         (None, 5)                 21813029  \n",
            "=================================================================\n",
            "Total params: 21,813,029\n",
            "Trainable params: 21,778,597\n",
            "Non-trainable params: 34,432\n",
            "_________________________________________________________________\n"
          ],
          "name": "stdout"
        }
      ]
    },
    {
      "cell_type": "code",
      "metadata": {
        "colab": {
          "base_uri": "https://localhost:8080/"
        },
        "id": "lAIoGzJmQMx3",
        "outputId": "013f9437-fdbc-449b-8d93-a771670a9e8c"
      },
      "source": [
        "_es = EarlyStopping(monitor='val_loss',\n",
        "                    mode='min',\n",
        "                    patience=10)\n",
        "_r = ReduceLROnPlateau(monitor='val_loss',\n",
        "                       factor=0.8,\n",
        "                       patience=2,\n",
        "                       verbose=1,\n",
        "                       mode='auto',\n",
        "                       epsilon=0.0001,\n",
        "                       cooldown=5,\n",
        "                       min_lr=0.00001)\n",
        "_callback = [_es, _r]\n"
      ],
      "execution_count": 38,
      "outputs": [
        {
          "output_type": "stream",
          "text": [
            "WARNING:tensorflow:`epsilon` argument is deprecated and will be removed, use `min_delta` instead.\n"
          ],
          "name": "stdout"
        }
      ]
    },
    {
      "cell_type": "code",
      "metadata": {
        "colab": {
          "base_uri": "https://localhost:8080/"
        },
        "id": "SsA1ysKT5fV2",
        "outputId": "5b496846-35ff-467e-b085-8890a4912b34"
      },
      "source": [
        "history = model.fit(train_data, validation_data=valid_data, epochs=_epochs, callbacks=_callback, steps_per_epoch=_n_train//_batch_size)\n",
        "\n",
        "model.save('/content/drive/MyDrive/cassava-leaf-disease-classification/Inception_ver_1.h5')\n",
        "\n",
        "with open('/content/drive/MyDrive/cassava-leaf-disease-classification/Inception_ver_1.pkl', 'wb') as f:\n",
        "    pickle.dump(history.history, f, pickle.HIGHEST_PROTOCOL)"
      ],
      "execution_count": 39,
      "outputs": [
        {
          "output_type": "stream",
          "text": [
            "Epoch 1/30\n",
            "1170/1170 [==============================] - 696s 582ms/step - loss: 1.1617 - categorical_accuracy: 0.5514 - val_loss: 0.8183 - val_categorical_accuracy: 0.7478\n",
            "Epoch 2/30\n",
            "1170/1170 [==============================] - 442s 378ms/step - loss: 0.7955 - categorical_accuracy: 0.7543 - val_loss: 0.7344 - val_categorical_accuracy: 0.7851\n",
            "Epoch 3/30\n",
            "1170/1170 [==============================] - 378s 323ms/step - loss: 0.7309 - categorical_accuracy: 0.7848 - val_loss: 0.6849 - val_categorical_accuracy: 0.8053\n",
            "Epoch 4/30\n",
            "1170/1170 [==============================] - 336s 287ms/step - loss: 0.6967 - categorical_accuracy: 0.7994 - val_loss: 0.6647 - val_categorical_accuracy: 0.8146\n",
            "Epoch 5/30\n",
            "1170/1170 [==============================] - 315s 269ms/step - loss: 0.6771 - categorical_accuracy: 0.8064 - val_loss: 0.6253 - val_categorical_accuracy: 0.8374\n",
            "Epoch 6/30\n",
            "1170/1170 [==============================] - 302s 258ms/step - loss: 0.6564 - categorical_accuracy: 0.8189 - val_loss: 0.5887 - val_categorical_accuracy: 0.8494\n",
            "Epoch 7/30\n",
            "1170/1170 [==============================] - 287s 245ms/step - loss: 0.6381 - categorical_accuracy: 0.8265 - val_loss: 0.6106 - val_categorical_accuracy: 0.8460\n",
            "Epoch 8/30\n",
            "1170/1170 [==============================] - 277s 237ms/step - loss: 0.6310 - categorical_accuracy: 0.8316 - val_loss: 0.5754 - val_categorical_accuracy: 0.8602\n",
            "Epoch 9/30\n",
            "1170/1170 [==============================] - 265s 226ms/step - loss: 0.6124 - categorical_accuracy: 0.8369 - val_loss: 0.5599 - val_categorical_accuracy: 0.8595\n",
            "Epoch 10/30\n",
            "1170/1170 [==============================] - 253s 216ms/step - loss: 0.6147 - categorical_accuracy: 0.8415 - val_loss: 0.5755 - val_categorical_accuracy: 0.8591\n",
            "Epoch 11/30\n",
            "1170/1170 [==============================] - 246s 211ms/step - loss: 0.6056 - categorical_accuracy: 0.8424 - val_loss: 0.5793 - val_categorical_accuracy: 0.8535\n",
            "Epoch 12/30\n",
            "1170/1170 [==============================] - 238s 203ms/step - loss: 0.5998 - categorical_accuracy: 0.8438 - val_loss: 0.5501 - val_categorical_accuracy: 0.8714\n",
            "Epoch 13/30\n",
            "1170/1170 [==============================] - 238s 203ms/step - loss: 0.5914 - categorical_accuracy: 0.8471 - val_loss: 0.5632 - val_categorical_accuracy: 0.8632\n",
            "Epoch 14/30\n",
            "1170/1170 [==============================] - 234s 200ms/step - loss: 0.5747 - categorical_accuracy: 0.8589 - val_loss: 0.5624 - val_categorical_accuracy: 0.8658\n",
            "Epoch 15/30\n",
            "1170/1170 [==============================] - 226s 193ms/step - loss: 0.5709 - categorical_accuracy: 0.8550 - val_loss: 0.5567 - val_categorical_accuracy: 0.8673\n",
            "Epoch 16/30\n",
            "1170/1170 [==============================] - 221s 189ms/step - loss: 0.5720 - categorical_accuracy: 0.8553 - val_loss: 0.5733 - val_categorical_accuracy: 0.8587\n",
            "Epoch 17/30\n",
            "1170/1170 [==============================] - 223s 191ms/step - loss: 0.5647 - categorical_accuracy: 0.8584 - val_loss: 0.5636 - val_categorical_accuracy: 0.8617\n",
            "Epoch 18/30\n",
            "1170/1170 [==============================] - 219s 187ms/step - loss: 0.5457 - categorical_accuracy: 0.8661 - val_loss: 0.5462 - val_categorical_accuracy: 0.8729\n",
            "Epoch 19/30\n",
            "1170/1170 [==============================] - 219s 187ms/step - loss: 0.5514 - categorical_accuracy: 0.8659 - val_loss: 0.5491 - val_categorical_accuracy: 0.8692\n",
            "Epoch 20/30\n",
            "1170/1170 [==============================] - 213s 182ms/step - loss: 0.5412 - categorical_accuracy: 0.8664 - val_loss: 0.5483 - val_categorical_accuracy: 0.8688\n",
            "Epoch 21/30\n",
            "1170/1170 [==============================] - 215s 184ms/step - loss: 0.5357 - categorical_accuracy: 0.8694 - val_loss: 0.5473 - val_categorical_accuracy: 0.8718\n",
            "Epoch 22/30\n",
            "1170/1170 [==============================] - 214s 183ms/step - loss: 0.5382 - categorical_accuracy: 0.8683 - val_loss: 0.5447 - val_categorical_accuracy: 0.8722\n",
            "Epoch 23/30\n",
            "1170/1170 [==============================] - 212s 181ms/step - loss: 0.5311 - categorical_accuracy: 0.8724 - val_loss: 0.5644 - val_categorical_accuracy: 0.8651\n",
            "Epoch 24/30\n",
            "1170/1170 [==============================] - 210s 180ms/step - loss: 0.5284 - categorical_accuracy: 0.8733 - val_loss: 0.5606 - val_categorical_accuracy: 0.8681\n",
            "Epoch 25/30\n",
            "1170/1170 [==============================] - 211s 181ms/step - loss: 0.5245 - categorical_accuracy: 0.8754 - val_loss: 0.5565 - val_categorical_accuracy: 0.8685\n",
            "Epoch 26/30\n",
            "1170/1170 [==============================] - 208s 178ms/step - loss: 0.5162 - categorical_accuracy: 0.8795 - val_loss: 0.5695 - val_categorical_accuracy: 0.8614\n",
            "Epoch 27/30\n",
            "1170/1170 [==============================] - 210s 179ms/step - loss: 0.5131 - categorical_accuracy: 0.8836 - val_loss: 0.5386 - val_categorical_accuracy: 0.8729\n",
            "Epoch 28/30\n",
            "1170/1170 [==============================] - 208s 178ms/step - loss: 0.5063 - categorical_accuracy: 0.8813 - val_loss: 0.5571 - val_categorical_accuracy: 0.8700\n",
            "Epoch 29/30\n",
            "1170/1170 [==============================] - 206s 176ms/step - loss: 0.4988 - categorical_accuracy: 0.8887 - val_loss: 0.5677 - val_categorical_accuracy: 0.8688\n",
            "Epoch 30/30\n",
            "1170/1170 [==============================] - 207s 177ms/step - loss: 0.5000 - categorical_accuracy: 0.8869 - val_loss: 0.5500 - val_categorical_accuracy: 0.8737\n"
          ],
          "name": "stdout"
        }
      ]
    },
    {
      "cell_type": "code",
      "metadata": {
        "colab": {
          "base_uri": "https://localhost:8080/",
          "height": 279
        },
        "id": "U5bnLVBbg4yj",
        "outputId": "7d65d696-3097-47e8-ebc1-feac17f9b79d"
      },
      "source": [
        "plt.plot(history.history['val_categorical_accuracy'], label='Validation Acc.')\n",
        "plt.plot(history.history['categorical_accuracy'], label='Train Acc.')\n",
        "plt.xlabel('Epochs')\n",
        "plt.ylabel('Accuracy')\n",
        "plt.legend()\n",
        "plt.show()"
      ],
      "execution_count": 40,
      "outputs": [
        {
          "output_type": "display_data",
          "data": {
            "image/png": "[encoded data removed]",
            "text/plain": [
              "<Figure size 432x288 with 1 Axes>"
            ]
          },
          "metadata": {
            "tags": [],
            "needs_background": "light"
          }
        }
      ]
    },
    {
      "cell_type": "code",
      "metadata": {
        "colab": {
          "base_uri": "https://localhost:8080/",
          "height": 279
        },
        "id": "ZIgtJ3ighD6Y",
        "outputId": "bd0cac15-101c-4282-ab25-ab3fc6ba6131"
      },
      "source": [
        "plt.plot(history.history['val_loss'], label='Validation loss')\n",
        "plt.plot(history.history['loss'], label='Train loss')\n",
        "plt.xlabel('Epochs')\n",
        "plt.ylabel('LOSS')\n",
        "plt.legend()\n",
        "plt.show()"
      ],
      "execution_count": 41,
      "outputs": [
        {
          "output_type": "display_data",
          "data": {
            "image/png": "[encoded data removed]",
            "text/plain": [
              "<Figure size 432x288 with 1 Axes>"
            ]
          },
          "metadata": {
            "tags": [],
            "needs_background": "light"
          }
        }
      ]
    }
  ]
}